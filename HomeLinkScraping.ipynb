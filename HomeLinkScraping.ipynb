{
 "cells": [
  {
   "cell_type": "markdown",
   "id": "21fd1644-f81e-4eb1-8d1e-bdaa48336b20",
   "metadata": {},
   "source": [
    "##\n",
    "## This is the first step of the webscraping process where we scrape the links of every home's main web page.\n",
    "## Since there are many villages to scrape we will scrape in batches constantly coming back to this notebook\n",
    "##"
   ]
  },
  {
   "cell_type": "markdown",
   "id": "e3a8cfca-5505-46eb-84a9-485f3bdc603b",
   "metadata": {},
   "source": [
    "#\n",
    "# Imports"
   ]
  },
  {
   "cell_type": "code",
   "execution_count": 2,
   "id": "104fbd02-1737-424a-86ee-99cbd020cdff",
   "metadata": {},
   "outputs": [],
   "source": [
    "from bs4 import BeautifulSoup\n",
    "import pandas as pd\n",
    "import numpy as np\n",
    "import requests\n",
    "import time"
   ]
  },
  {
   "cell_type": "code",
   "execution_count": null,
   "id": "01961f2b-662a-49ea-96d7-b5edd04b80cd",
   "metadata": {},
   "outputs": [],
   "source": []
  },
  {
   "cell_type": "code",
   "execution_count": null,
   "id": "bd894f48-39bf-45de-9c96-29af0829bac2",
   "metadata": {},
   "outputs": [],
   "source": []
  },
  {
   "cell_type": "code",
   "execution_count": null,
   "id": "4a3cdc59-f7e8-4840-a546-0b4431fe9254",
   "metadata": {},
   "outputs": [],
   "source": []
  },
  {
   "cell_type": "code",
   "execution_count": null,
   "id": "94a7ef14-3a5b-4aa1-9151-aa4353543956",
   "metadata": {},
   "outputs": [],
   "source": []
  },
  {
   "cell_type": "code",
   "execution_count": null,
   "id": "a298ca9e-3a10-4e1d-a542-538b0d6ae565",
   "metadata": {},
   "outputs": [],
   "source": []
  },
  {
   "cell_type": "code",
   "execution_count": null,
   "id": "38bb9dfc-e032-46c1-9b78-74d5313d0046",
   "metadata": {},
   "outputs": [],
   "source": []
  },
  {
   "cell_type": "markdown",
   "id": "0046801d-88d9-4c4d-ba34-3906b99ae4c5",
   "metadata": {},
   "source": [
    "#\n",
    "# First Batch - Complete"
   ]
  },
  {
   "cell_type": "markdown",
   "id": "62a20d25-88c0-4028-81ff-c98258e804da",
   "metadata": {},
   "source": [
    "###\n",
    "### Hempstead"
   ]
  },
  {
   "cell_type": "code",
   "execution_count": 592,
   "id": "e707e0b7-8efb-44be-8ee4-3b4e4e72ed99",
   "metadata": {},
   "outputs": [],
   "source": [
    "links = []"
   ]
  },
  {
   "cell_type": "code",
   "execution_count": 593,
   "id": "24672e3d-f596-44c3-9c67-823f21d316d1",
   "metadata": {},
   "outputs": [],
   "source": [
    "for pageNum in range(1, 8):\n",
    "    url = f'https://www.weichert.com/NY/Nassau/Hempstead/?pg={pageNum}'\n",
    "    res = requests.get(url)\n",
    "    soup = BeautifulSoup(res.text, 'html.parser')\n",
    "    \n",
    "    mainDiv = soup.find('div', id='listings')\n",
    "    \n",
    "    indivDiv = mainDiv.find_all('div', class_='listing')\n",
    "    \n",
    "    for elements in indivDiv:\n",
    "        link = elements.find('a', class_='card-link propertyLink')\n",
    "        \n",
    "        links.append(link['href'])"
   ]
  },
  {
   "cell_type": "markdown",
   "id": "bb61c5c6-be49-4d2c-923b-4ca057e6c108",
   "metadata": {},
   "source": [
    "###\n",
    "### Garden City"
   ]
  },
  {
   "cell_type": "code",
   "execution_count": 594,
   "id": "fd46a4e7-5158-42be-a3ac-bbed565115fe",
   "metadata": {},
   "outputs": [],
   "source": [
    "for pageNum in range(1, 6):\n",
    "    url = f'https://www.weichert.com/NY/Nassau/Garden_City/Garden_City/?pg={pageNum}'\n",
    "    res = requests.get(url)\n",
    "    soup = BeautifulSoup(res.text, 'html.parser')\n",
    "    \n",
    "    mainDiv = soup.find('div', id='listings')\n",
    "    \n",
    "    indivDiv = mainDiv.find_all('div', class_='listing')\n",
    "    \n",
    "    for elements in indivDiv:\n",
    "        link = elements.find('a', class_='card-link propertyLink')\n",
    "        \n",
    "        links.append(link['href'])"
   ]
  },
  {
   "cell_type": "markdown",
   "id": "f86ca861-661f-4c66-b465-d1827a780838",
   "metadata": {},
   "source": [
    "### \n",
    "### Uniondale"
   ]
  },
  {
   "cell_type": "code",
   "execution_count": 595,
   "id": "d990ed70-9565-45f9-93ff-2256ae65048a",
   "metadata": {},
   "outputs": [],
   "source": [
    "for pageNum in range(1, 4):\n",
    "    url = f'https://www.weichert.com/NY/Nassau/Uniondale/?pg={pageNum}'\n",
    "    res = requests.get(url)\n",
    "    soup = BeautifulSoup(res.text, 'html.parser')\n",
    "    \n",
    "    mainDiv = soup.find('div', id='listings')\n",
    "    \n",
    "    indivDiv = mainDiv.find_all('div', class_='listing')\n",
    "    \n",
    "    for elements in indivDiv:\n",
    "        link = elements.find('a', class_='card-link propertyLink')\n",
    "        \n",
    "        links.append(link['href'])"
   ]
  },
  {
   "cell_type": "markdown",
   "id": "960aefde-35c0-477d-ac1f-2f15b444faa6",
   "metadata": {},
   "source": [
    "### \n",
    "### Roosevelt"
   ]
  },
  {
   "cell_type": "code",
   "execution_count": 596,
   "id": "14c53486-456a-4881-a751-456b10c6d32a",
   "metadata": {},
   "outputs": [],
   "source": [
    "for pageNum in range(1, 4):\n",
    "    url = f'https://www.weichert.com/NY/Nassau/Roosevelt/?pg={pageNum}'\n",
    "    res = requests.get(url)\n",
    "    soup = BeautifulSoup(res.text, 'html.parser')\n",
    "    \n",
    "    mainDiv = soup.find('div', id='listings')\n",
    "    \n",
    "    indivDiv = mainDiv.find_all('div', class_='listing')\n",
    "    \n",
    "    for elements in indivDiv:\n",
    "        link = elements.find('a', class_='card-link propertyLink')\n",
    "        \n",
    "        links.append(link['href'])"
   ]
  },
  {
   "cell_type": "markdown",
   "id": "42c27c04-bcbb-4846-8416-9d9d21d1a766",
   "metadata": {},
   "source": [
    "###\n",
    "### East Meadow"
   ]
  },
  {
   "cell_type": "code",
   "execution_count": 597,
   "id": "dea41fef-86b2-454c-a1f4-0eb231fa15e1",
   "metadata": {},
   "outputs": [],
   "source": [
    "for pageNum in range(1, 6):\n",
    "    url = f'https://www.weichert.com/NY/Nassau/East_Meadow/?pg={pageNum}'\n",
    "    res = requests.get(url)\n",
    "    soup = BeautifulSoup(res.text, 'html.parser')\n",
    "    \n",
    "    mainDiv = soup.find('div', id='listings')\n",
    "    \n",
    "    indivDiv = mainDiv.find_all('div', class_='listing')\n",
    "    \n",
    "    for elements in indivDiv:\n",
    "        link = elements.find('a', class_='card-link propertyLink')\n",
    "        \n",
    "        links.append(link['href'])"
   ]
  },
  {
   "cell_type": "markdown",
   "id": "cb86f42a-d55b-45eb-a6a3-79342655655c",
   "metadata": {},
   "source": [
    "###\n",
    "### Baldwin"
   ]
  },
  {
   "cell_type": "code",
   "execution_count": 598,
   "id": "1589fbfe-d08e-48fd-accd-a6d4a91478ed",
   "metadata": {},
   "outputs": [],
   "source": [
    "\n",
    "\n",
    "for pageNum in range(1, 6):\n",
    "    url = f'https://www.weichert.com/NY/Nassau/Baldwin/?pg={pageNum}'\n",
    "    res = requests.get(url)\n",
    "    soup = BeautifulSoup(res.text, 'html.parser')\n",
    "    \n",
    "    mainDiv = soup.find('div', id='listings')\n",
    "    \n",
    "    indivDiv = mainDiv.find_all('div', class_='listing')\n",
    "    \n",
    "    for elements in indivDiv:\n",
    "        link = elements.find('a', class_='card-link propertyLink')\n",
    "        \n",
    "        links.append(link['href'])"
   ]
  },
  {
   "cell_type": "markdown",
   "id": "9923edba-3b57-430c-a320-35be06266796",
   "metadata": {},
   "source": [
    "###\n",
    "### Freeport"
   ]
  },
  {
   "cell_type": "code",
   "execution_count": 599,
   "id": "1896db71-b72b-41a6-9d4b-567e16693f74",
   "metadata": {},
   "outputs": [],
   "source": [
    "for pageNum in range(1, 10):\n",
    "    url = f'https://www.weichert.com/NY/Nassau/Freeport/?pg={pageNum}'\n",
    "    res = requests.get(url)\n",
    "    soup = BeautifulSoup(res.text, 'html.parser')\n",
    "    \n",
    "    mainDiv = soup.find('div', id='listings')\n",
    "    \n",
    "    indivDiv = mainDiv.find_all('div', class_='listing')\n",
    "    \n",
    "    for elements in indivDiv:\n",
    "        link = elements.find('a', class_='card-link propertyLink')\n",
    "        \n",
    "        links.append(link['href'])"
   ]
  },
  {
   "cell_type": "markdown",
   "id": "722f2474-0e08-46ec-b10f-3ac844c91de6",
   "metadata": {},
   "source": [
    "###\n",
    "### Merrick"
   ]
  },
  {
   "cell_type": "code",
   "execution_count": 600,
   "id": "7b2020c4-f419-4f97-9c30-92fc5f5177b0",
   "metadata": {},
   "outputs": [],
   "source": [
    "for pageNum in range(1, 7):\n",
    "    url = f'https://www.weichert.com/NY/Nassau/Merrick/?pg={pageNum}'\n",
    "    res = requests.get(url)\n",
    "    soup = BeautifulSoup(res.text, 'html.parser')\n",
    "    \n",
    "    mainDiv = soup.find('div', id='listings')\n",
    "    \n",
    "    indivDiv = mainDiv.find_all('div', class_='listing')\n",
    "    \n",
    "    for elements in indivDiv:\n",
    "        link = elements.find('a', class_='card-link propertyLink')\n",
    "        \n",
    "        links.append(link['href'])"
   ]
  },
  {
   "cell_type": "markdown",
   "id": "564e22f3-405a-4030-9632-e317115fb270",
   "metadata": {},
   "source": [
    "###\n",
    "### Bellmore"
   ]
  },
  {
   "cell_type": "code",
   "execution_count": 601,
   "id": "756c5972-83da-4de7-948d-285ac72b5be2",
   "metadata": {},
   "outputs": [],
   "source": [
    "for pageNum in range(1, 4):\n",
    "    url = f'https://www.weichert.com/NY/Nassau/Bellmore/?pg={pageNum}'\n",
    "    res = requests.get(url)\n",
    "    soup = BeautifulSoup(res.text, 'html.parser')\n",
    "    \n",
    "    mainDiv = soup.find('div', id='listings')\n",
    "    \n",
    "    indivDiv = mainDiv.find_all('div', class_='listing')\n",
    "    \n",
    "    for elements in indivDiv:\n",
    "        link = elements.find('a', class_='card-link propertyLink')\n",
    "        \n",
    "        links.append(link['href'])"
   ]
  },
  {
   "cell_type": "markdown",
   "id": "a0e1539a-3dcf-4b4f-9a33-810df354587d",
   "metadata": {},
   "source": [
    "### \n",
    "### North Bellmore"
   ]
  },
  {
   "cell_type": "code",
   "execution_count": 602,
   "id": "cd4e99f2-7577-4c1b-8efc-65b6eb92e358",
   "metadata": {},
   "outputs": [],
   "source": [
    "for pageNum in range(1, 3):\n",
    "    url = f'https://www.weichert.com/NY/Nassau/North_Bellmore/?pg={pageNum}'\n",
    "    res = requests.get(url)\n",
    "    soup = BeautifulSoup(res.text, 'html.parser')\n",
    "    \n",
    "    mainDiv = soup.find('div', id='listings')\n",
    "    \n",
    "    indivDiv = mainDiv.find_all('div', class_='listing')\n",
    "    \n",
    "    for elements in indivDiv:\n",
    "        link = elements.find('a', class_='card-link propertyLink')\n",
    "        \n",
    "        links.append(link['href'])"
   ]
  },
  {
   "cell_type": "markdown",
   "id": "025cc12a-0a09-4207-8e0c-e2278b3a8a9a",
   "metadata": {},
   "source": [
    "###\n",
    "### Rockville Centre"
   ]
  },
  {
   "cell_type": "code",
   "execution_count": 603,
   "id": "f0225b65-613d-4dc4-a655-9a34386ab46f",
   "metadata": {},
   "outputs": [],
   "source": [
    "for pageNum in range(1, 7):\n",
    "    url = f'https://www.weichert.com/NY/Nassau/Rockville_Centre/?pg={pageNum}'\n",
    "    res = requests.get(url)\n",
    "    soup = BeautifulSoup(res.text, 'html.parser')\n",
    "    \n",
    "    mainDiv = soup.find('div', id='listings')\n",
    "    \n",
    "    indivDiv = mainDiv.find_all('div', class_='listing')\n",
    "    \n",
    "    for elements in indivDiv:\n",
    "        link = elements.find('a', class_='card-link propertyLink')\n",
    "        \n",
    "        links.append(link['href'])"
   ]
  },
  {
   "cell_type": "markdown",
   "id": "1534caa6-8333-4f2b-85e6-6e8f7d913f7b",
   "metadata": {},
   "source": [
    "###\n",
    "### Levittown"
   ]
  },
  {
   "cell_type": "code",
   "execution_count": 604,
   "id": "df9b4d52-b4ef-4a25-854c-232f9aca6bd3",
   "metadata": {},
   "outputs": [],
   "source": [
    "for pageNum in range(1, 7):\n",
    "    url = f'https://www.weichert.com/NY/Nassau/Levittown//?pg={pageNum}'\n",
    "    res = requests.get(url)\n",
    "    soup = BeautifulSoup(res.text, 'html.parser')\n",
    "    \n",
    "    mainDiv = soup.find('div', id='listings')\n",
    "    \n",
    "    indivDiv = mainDiv.find_all('div', class_='listing')\n",
    "    \n",
    "    for elements in indivDiv:\n",
    "        link = elements.find('a', class_='card-link propertyLink')\n",
    "        \n",
    "        links.append(link['href'])"
   ]
  },
  {
   "cell_type": "markdown",
   "id": "50e5e3f9-c195-49ae-9817-fb8cf773aa0a",
   "metadata": {},
   "source": [
    "###\n",
    "### Franklin Square"
   ]
  },
  {
   "cell_type": "code",
   "execution_count": 605,
   "id": "be485ada-5d33-42ad-ba1d-cb0680e0777d",
   "metadata": {},
   "outputs": [],
   "source": [
    "for pageNum in range(1, 4):\n",
    "    url = f'https://www.weichert.com/NY/Nassau/Franklin_Square/?pg={pageNum}'\n",
    "    res = requests.get(url)\n",
    "    soup = BeautifulSoup(res.text, 'html.parser')\n",
    "    \n",
    "    mainDiv = soup.find('div', id='listings')\n",
    "    \n",
    "    indivDiv = mainDiv.find_all('div', class_='listing')\n",
    "    \n",
    "    for elements in indivDiv:\n",
    "        link = elements.find('a', class_='card-link propertyLink')\n",
    "        \n",
    "        links.append(link['href'])"
   ]
  },
  {
   "cell_type": "markdown",
   "id": "a6ab8a6b-34b6-4c8e-bca5-b6aec5190c8a",
   "metadata": {},
   "source": [
    "###\n",
    "### Valley Stream"
   ]
  },
  {
   "cell_type": "code",
   "execution_count": 606,
   "id": "d3d88085-86cf-4c81-8b15-fe1d5409e4fa",
   "metadata": {},
   "outputs": [],
   "source": [
    "for pageNum in range(1, 10):\n",
    "    url = f'https://www.weichert.com/NY/Nassau/Valley_Stream//?pg={pageNum}'\n",
    "    res = requests.get(url)\n",
    "    soup = BeautifulSoup(res.text, 'html.parser')\n",
    "    \n",
    "    mainDiv = soup.find('div', id='listings')\n",
    "    \n",
    "    indivDiv = mainDiv.find_all('div', class_='listing')\n",
    "    \n",
    "    for elements in indivDiv:\n",
    "        link = elements.find('a', class_='card-link propertyLink')\n",
    "        \n",
    "        links.append(link['href'])"
   ]
  },
  {
   "cell_type": "markdown",
   "id": "0ff711d3-afad-4b56-aa93-2197f781f860",
   "metadata": {},
   "source": [
    "###\n",
    "### Oceanside"
   ]
  },
  {
   "cell_type": "code",
   "execution_count": 607,
   "id": "5b8d10b4-f04a-4387-815c-a3e80520eb1f",
   "metadata": {},
   "outputs": [],
   "source": [
    "for pageNum in range(1, 7):\n",
    "    url = f'https://www.weichert.com/NY/Nassau/Oceanside/?pg={pageNum}'\n",
    "    res = requests.get(url)\n",
    "    soup = BeautifulSoup(res.text, 'html.parser')\n",
    "    \n",
    "    mainDiv = soup.find('div', id='listings')\n",
    "    \n",
    "    indivDiv = mainDiv.find_all('div', class_='listing')\n",
    "    \n",
    "    for elements in indivDiv:\n",
    "        link = elements.find('a', class_='card-link propertyLink')\n",
    "        \n",
    "        links.append(link['href'])"
   ]
  },
  {
   "cell_type": "markdown",
   "id": "c2edf1ae-f749-4649-ae2e-ab8e43ce14b9",
   "metadata": {},
   "source": [
    "###\n",
    "### New Hyde Park"
   ]
  },
  {
   "cell_type": "code",
   "execution_count": 608,
   "id": "f2e303be-ef20-4a31-9ab6-7b7bbaa49b01",
   "metadata": {},
   "outputs": [],
   "source": [
    "for pageNum in range(1, 6):\n",
    "    url = f'https://www.weichert.com/NY/Nassau/New_Hyde_Park/?pg={pageNum}'\n",
    "    res = requests.get(url)\n",
    "    soup = BeautifulSoup(res.text, 'html.parser')\n",
    "    \n",
    "    mainDiv = soup.find('div', id='listings')\n",
    "    \n",
    "    indivDiv = mainDiv.find_all('div', class_='listing')\n",
    "    \n",
    "    for elements in indivDiv:\n",
    "        link = elements.find('a', class_='card-link propertyLink')\n",
    "        \n",
    "        links.append(link['href'])"
   ]
  },
  {
   "cell_type": "markdown",
   "id": "30e8fba2-c2ac-4a0f-aaf2-c0d145b32c9d",
   "metadata": {},
   "source": [
    "###\n",
    "### Mineola"
   ]
  },
  {
   "cell_type": "code",
   "execution_count": 609,
   "id": "b5f75d08-d002-471e-8293-163f75699536",
   "metadata": {},
   "outputs": [],
   "source": [
    "for pageNum in range(1, 5):\n",
    "    url = f'https://www.weichert.com/NY/Nassau/Mineola/Mineola/?pg={pageNum}'\n",
    "    res = requests.get(url)\n",
    "    soup = BeautifulSoup(res.text, 'html.parser')\n",
    "    \n",
    "    mainDiv = soup.find('div', id='listings')\n",
    "    \n",
    "    indivDiv = mainDiv.find_all('div', class_='listing')\n",
    "    \n",
    "    for elements in indivDiv:\n",
    "        link = elements.find('a', class_='card-link propertyLink')\n",
    "        \n",
    "        links.append(link['href'])"
   ]
  },
  {
   "cell_type": "code",
   "execution_count": null,
   "id": "c3a4d2dd-8e72-47b4-9501-abbb858a6573",
   "metadata": {},
   "outputs": [],
   "source": []
  },
  {
   "cell_type": "code",
   "execution_count": null,
   "id": "9954adac-e8d4-42af-a005-0c3dceb84c15",
   "metadata": {},
   "outputs": [],
   "source": []
  },
  {
   "cell_type": "markdown",
   "id": "fc908007-87f3-44c2-9373-04f418bee28e",
   "metadata": {},
   "source": [
    "#\n",
    "# Second Batch"
   ]
  },
  {
   "cell_type": "code",
   "execution_count": 74,
   "id": "c2976213-f497-4e47-a8d9-f3c165879123",
   "metadata": {},
   "outputs": [],
   "source": [
    "\n",
    "links = []"
   ]
  },
  {
   "cell_type": "markdown",
   "id": "9da6a98a-30da-483a-848b-a135fc26c04c",
   "metadata": {},
   "source": [
    "### Elmont"
   ]
  },
  {
   "cell_type": "code",
   "execution_count": 75,
   "id": "6c7aec7b-3fea-479c-94f0-6b7bfdb4d01e",
   "metadata": {},
   "outputs": [],
   "source": [
    "base = 'https://www.weichert.com/NY/Nassau/Elmont/'\n",
    "for pageNum in range(1, 7):\n",
    "    url = f'{base}?pg={pageNum}'\n",
    "    res = requests.get(url)\n",
    "    soup = BeautifulSoup(res.text, 'html.parser')\n",
    "    \n",
    "    mainDiv = soup.find('div', id='listings')\n",
    "    \n",
    "    indivDiv = mainDiv.find_all('div', class_='listing')\n",
    "    \n",
    "    for elements in indivDiv:\n",
    "        link = elements.find('a', class_='card-link propertyLink')\n",
    "        \n",
    "        links.append(link['href'])"
   ]
  },
  {
   "cell_type": "markdown",
   "id": "11caf426-451d-48ea-a244-6f2e53f03d48",
   "metadata": {},
   "source": [
    "###\n",
    "### Lynbrook"
   ]
  },
  {
   "cell_type": "code",
   "execution_count": 76,
   "id": "98aa3cab-ea77-4c32-9da9-c5461909ba08",
   "metadata": {},
   "outputs": [],
   "source": [
    "base = 'https://www.weichert.com/NY/Nassau/Lynbrook/'\n",
    "for pageNum in range(1, 5):\n",
    "    url = f'{base}?pg={pageNum}'\n",
    "    res = requests.get(url)\n",
    "    soup = BeautifulSoup(res.text, 'html.parser')\n",
    "    \n",
    "    mainDiv = soup.find('div', id='listings')\n",
    "    \n",
    "    indivDiv = mainDiv.find_all('div', class_='listing')\n",
    "    \n",
    "    for elements in indivDiv:\n",
    "        link = elements.find('a', class_='card-link propertyLink')\n",
    "        \n",
    "        links.append(link['href'])"
   ]
  },
  {
   "cell_type": "markdown",
   "id": "e37c37ab-c0f3-4bae-b44e-502394500167",
   "metadata": {
    "scrolled": true
   },
   "source": [
    "###\n",
    "### East Rockaway"
   ]
  },
  {
   "cell_type": "code",
   "execution_count": 77,
   "id": "89e192a1-64c0-46eb-8336-6c333f1aba57",
   "metadata": {},
   "outputs": [],
   "source": [
    "base = 'https://www.weichert.com/NY/Nassau/East_Rockaway/'\n",
    "for pageNum in range(1, 5):\n",
    "    url = f'{base}?pg={pageNum}'\n",
    "    res = requests.get(url)\n",
    "    soup = BeautifulSoup(res.text, 'html.parser')\n",
    "    \n",
    "    mainDiv = soup.find('div', id='listings')\n",
    "    \n",
    "    indivDiv = mainDiv.find_all('div', class_='listing')\n",
    "    \n",
    "    for elements in indivDiv:\n",
    "        link = elements.find('a', class_='card-link propertyLink')\n",
    "        \n",
    "        links.append(link['href'])"
   ]
  },
  {
   "cell_type": "markdown",
   "id": "097a756a-88a9-47ac-bdca-faeafe8698e2",
   "metadata": {},
   "source": [
    "###\n",
    "### Floral Park"
   ]
  },
  {
   "cell_type": "code",
   "execution_count": 78,
   "id": "01ed97ad-e930-455a-8728-27c7ea1c7921",
   "metadata": {},
   "outputs": [],
   "source": [
    "base = 'https://www.weichert.com/NY/Nassau/Floral_Park/'\n",
    "for pageNum in range(1, 4):\n",
    "    url = f'{base}?pg={pageNum}'\n",
    "    res = requests.get(url)\n",
    "    soup = BeautifulSoup(res.text, 'html.parser')\n",
    "    \n",
    "    mainDiv = soup.find('div', id='listings')\n",
    "    \n",
    "    indivDiv = mainDiv.find_all('div', class_='listing')\n",
    "    \n",
    "    for elements in indivDiv:\n",
    "        link = elements.find('a', class_='card-link propertyLink')\n",
    "        \n",
    "        links.append(link['href'])"
   ]
  },
  {
   "cell_type": "markdown",
   "id": "9c82b99a-db97-4432-aa8c-761d4bbc4777",
   "metadata": {},
   "source": [
    "###\n",
    "### Woodmere"
   ]
  },
  {
   "cell_type": "code",
   "execution_count": 79,
   "id": "cf3e78bd-dea0-40c7-a738-5ea4bb91dd39",
   "metadata": {},
   "outputs": [],
   "source": [
    "base = 'https://www.weichert.com/NY/Nassau/Woodmere/'\n",
    "for pageNum in range(1, 4):\n",
    "    url = f'{base}?pg={pageNum}'\n",
    "    res = requests.get(url)\n",
    "    soup = BeautifulSoup(res.text, 'html.parser')\n",
    "    \n",
    "    mainDiv = soup.find('div', id='listings')\n",
    "    \n",
    "    indivDiv = mainDiv.find_all('div', class_='listing')\n",
    "    \n",
    "    for elements in indivDiv:\n",
    "        link = elements.find('a', class_='card-link propertyLink')\n",
    "        \n",
    "        links.append(link['href'])"
   ]
  },
  {
   "cell_type": "markdown",
   "id": "00477110-a079-4383-917b-185c23cb280c",
   "metadata": {},
   "source": [
    "###\n",
    "### Cedarhurst"
   ]
  },
  {
   "cell_type": "code",
   "execution_count": 80,
   "id": "c15532c0-12b1-403e-b4e1-14ddca1c4d45",
   "metadata": {},
   "outputs": [],
   "source": [
    "base = 'https://www.weichert.com/NY/Nassau/Cedarhurst/'\n",
    "for pageNum in range(1, 3):\n",
    "    url = f'{base}?pg={pageNum}'\n",
    "    res = requests.get(url)\n",
    "    soup = BeautifulSoup(res.text, 'html.parser')\n",
    "    \n",
    "    mainDiv = soup.find('div', id='listings')\n",
    "    \n",
    "    indivDiv = mainDiv.find_all('div', class_='listing')\n",
    "    \n",
    "    for elements in indivDiv:\n",
    "        link = elements.find('a', class_='card-link propertyLink')\n",
    "        \n",
    "        links.append(link['href'])"
   ]
  },
  {
   "cell_type": "markdown",
   "id": "97a93b56-fb27-4391-8d11-4e0dbcf53777",
   "metadata": {},
   "source": [
    "###\n",
    "### Inwood"
   ]
  },
  {
   "cell_type": "code",
   "execution_count": 81,
   "id": "9cc9d438-b2c3-4f36-8025-684dc617fe63",
   "metadata": {},
   "outputs": [],
   "source": [
    "base = 'https://www.weichert.com/NY/Nassau/Inwood/'\n",
    "for pageNum in range(1, 3):\n",
    "    url = f'{base}?pg={pageNum}'\n",
    "    res = requests.get(url)\n",
    "    soup = BeautifulSoup(res.text, 'html.parser')\n",
    "    \n",
    "    mainDiv = soup.find('div', id='listings')\n",
    "    \n",
    "    indivDiv = mainDiv.find_all('div', class_='listing')\n",
    "    \n",
    "    for elements in indivDiv:\n",
    "        link = elements.find('a', class_='card-link propertyLink')\n",
    "        \n",
    "        links.append(link['href'])"
   ]
  },
  {
   "cell_type": "markdown",
   "id": "6809fd71-0a90-480b-b474-4eccc51986bd",
   "metadata": {},
   "source": [
    "###\n",
    "### Westbury"
   ]
  },
  {
   "cell_type": "code",
   "execution_count": 82,
   "id": "f7377c33-e243-43b3-b1c2-f2468b4ea471",
   "metadata": {},
   "outputs": [],
   "source": [
    "base = 'https://www.weichert.com/NY/Nassau/Westbury/'\n",
    "for pageNum in range(1, 8):\n",
    "    url = f'{base}?pg={pageNum}'\n",
    "    res = requests.get(url)\n",
    "    soup = BeautifulSoup(res.text, 'html.parser')\n",
    "    \n",
    "    mainDiv = soup.find('div', id='listings')\n",
    "    \n",
    "    indivDiv = mainDiv.find_all('div', class_='listing')\n",
    "    \n",
    "    for elements in indivDiv:\n",
    "        link = elements.find('a', class_='card-link propertyLink')\n",
    "        \n",
    "        links.append(link['href'])"
   ]
  },
  {
   "cell_type": "markdown",
   "id": "069f94a4-6756-4c21-90dc-2ac5c2c2bbbf",
   "metadata": {},
   "source": [
    "###\n",
    "### Old Westbury"
   ]
  },
  {
   "cell_type": "code",
   "execution_count": 83,
   "id": "c4f2b75d-8184-4b6a-9c17-2da599d07324",
   "metadata": {},
   "outputs": [],
   "source": [
    "base = 'https://www.weichert.com/NY/Nassau/Old_Westbury/'\n",
    "for pageNum in range(1, 4):\n",
    "    url = f'{base}?pg={pageNum}'\n",
    "    res = requests.get(url)\n",
    "    soup = BeautifulSoup(res.text, 'html.parser')\n",
    "    \n",
    "    mainDiv = soup.find('div', id='listings')\n",
    "    \n",
    "    indivDiv = mainDiv.find_all('div', class_='listing')\n",
    "    \n",
    "    for elements in indivDiv:\n",
    "        link = elements.find('a', class_='card-link propertyLink')\n",
    "        \n",
    "        links.append(link['href'])"
   ]
  },
  {
   "cell_type": "markdown",
   "id": "934e8bce-73a0-4f50-a1e6-77dd2df8b8d5",
   "metadata": {},
   "source": [
    "###\n",
    "### Massapequa"
   ]
  },
  {
   "cell_type": "code",
   "execution_count": 84,
   "id": "e4ce39e5-6424-48f0-a22b-9a0c62347cc4",
   "metadata": {},
   "outputs": [],
   "source": [
    "base = 'https://www.weichert.com/NY/Nassau/Massapequa/'\n",
    "for pageNum in range(1, 10):\n",
    "    url = f'{base}?pg={pageNum}'\n",
    "    res = requests.get(url)\n",
    "    soup = BeautifulSoup(res.text, 'html.parser')\n",
    "    \n",
    "    mainDiv = soup.find('div', id='listings')\n",
    "    \n",
    "    indivDiv = mainDiv.find_all('div', class_='listing')\n",
    "    \n",
    "    for elements in indivDiv:\n",
    "        link = elements.find('a', class_='card-link propertyLink')\n",
    "        \n",
    "        links.append(link['href'])"
   ]
  },
  {
   "cell_type": "markdown",
   "id": "3fd29257-db0b-40aa-8ea3-a6e6f3f8bc93",
   "metadata": {},
   "source": [
    "###\n",
    "### Syosset"
   ]
  },
  {
   "cell_type": "code",
   "execution_count": 85,
   "id": "974be696-588b-4899-a8d4-8e530a4d1a13",
   "metadata": {},
   "outputs": [],
   "source": [
    "base = 'https://www.weichert.com/NY/Nassau/Syosset/'\n",
    "for pageNum in range(1, 6):\n",
    "    url = f'{base}?pg={pageNum}'\n",
    "    res = requests.get(url)\n",
    "    soup = BeautifulSoup(res.text, 'html.parser')\n",
    "    \n",
    "    mainDiv = soup.find('div', id='listings')\n",
    "    \n",
    "    indivDiv = mainDiv.find_all('div', class_='listing')\n",
    "    \n",
    "    for elements in indivDiv:\n",
    "        link = elements.find('a', class_='card-link propertyLink')\n",
    "        \n",
    "        links.append(link['href'])"
   ]
  },
  {
   "cell_type": "code",
   "execution_count": 86,
   "id": "6f547b8c-9ca0-493f-9881-407b7676b748",
   "metadata": {},
   "outputs": [],
   "source": [
    "# 11"
   ]
  },
  {
   "cell_type": "markdown",
   "id": "435945b3-90bf-477b-acbe-ccae44b5eb5d",
   "metadata": {},
   "source": [
    "###\n",
    "### West Hempstead"
   ]
  },
  {
   "cell_type": "code",
   "execution_count": 87,
   "id": "ebd6cee7-a9d9-4dc7-8b2b-b88db42b256c",
   "metadata": {},
   "outputs": [],
   "source": [
    "base = 'https://www.weichert.com/NY/Nassau/West_Hempstead/'\n",
    "for pageNum in range(1, 5):\n",
    "    url = f'{base}?pg={pageNum}'\n",
    "    res = requests.get(url)\n",
    "    soup = BeautifulSoup(res.text, 'html.parser')\n",
    "    \n",
    "    mainDiv = soup.find('div', id='listings')\n",
    "    \n",
    "    indivDiv = mainDiv.find_all('div', class_='listing')\n",
    "    \n",
    "    for elements in indivDiv:\n",
    "        link = elements.find('a', class_='card-link propertyLink')\n",
    "        \n",
    "        links.append(link['href'])"
   ]
  },
  {
   "cell_type": "markdown",
   "id": "01efb6d7-813c-41e2-bfc1-e2985fcc3e96",
   "metadata": {},
   "source": [
    "###\n",
    "### Farmingdale"
   ]
  },
  {
   "cell_type": "code",
   "execution_count": 88,
   "id": "35909c31-c87a-4b2c-ab03-195a5ce36b73",
   "metadata": {},
   "outputs": [],
   "source": [
    "base = 'https://www.weichert.com/NY/Nassau/Farmingdale/'\n",
    "for pageNum in range(1, 6):\n",
    "    url = f'{base}?pg={pageNum}'\n",
    "    res = requests.get(url)\n",
    "    soup = BeautifulSoup(res.text, 'html.parser')\n",
    "    \n",
    "    mainDiv = soup.find('div', id='listings')\n",
    "    \n",
    "    indivDiv = mainDiv.find_all('div', class_='listing')\n",
    "    \n",
    "    for elements in indivDiv:\n",
    "        link = elements.find('a', class_='card-link propertyLink')\n",
    "        \n",
    "        links.append(link['href'])"
   ]
  },
  {
   "cell_type": "markdown",
   "id": "54df7282-86df-4fa1-b6d2-8b0951255138",
   "metadata": {},
   "source": [
    "###\n",
    "### Roslyn Heights"
   ]
  },
  {
   "cell_type": "code",
   "execution_count": 89,
   "id": "0162433d-a6f8-4004-8200-662f789f6f0e",
   "metadata": {},
   "outputs": [],
   "source": [
    "base = 'https://www.weichert.com/NY/Nassau/Roslyn_Heights/'\n",
    "for pageNum in range(1, 3):\n",
    "    url = f'{base}?pg={pageNum}'\n",
    "    res = requests.get(url)\n",
    "    soup = BeautifulSoup(res.text, 'html.parser')\n",
    "    \n",
    "    mainDiv = soup.find('div', id='listings')\n",
    "    \n",
    "    indivDiv = mainDiv.find_all('div', class_='listing')\n",
    "    \n",
    "    for elements in indivDiv:\n",
    "        link = elements.find('a', class_='card-link propertyLink')\n",
    "        \n",
    "        links.append(link['href'])"
   ]
  },
  {
   "cell_type": "markdown",
   "id": "38a0f3d6-f73c-47d4-9ff5-fb087efa437e",
   "metadata": {},
   "source": [
    "###\n",
    "### Hicksville"
   ]
  },
  {
   "cell_type": "code",
   "execution_count": 90,
   "id": "125e1a2f-e78d-4af5-8623-552ff92f19ce",
   "metadata": {},
   "outputs": [],
   "source": [
    "base ='https://www.weichert.com/NY/Nassau/Hicksville/'\n",
    "for pageNum in range(1, 7):\n",
    "    url = f'{base}?pg={pageNum}'\n",
    "    res = requests.get(url)\n",
    "    soup = BeautifulSoup(res.text, 'html.parser')\n",
    "    \n",
    "    mainDiv = soup.find('div', id='listings')\n",
    "    \n",
    "    indivDiv = mainDiv.find_all('div', class_='listing')\n",
    "    \n",
    "    for elements in indivDiv:\n",
    "        link = elements.find('a', class_='card-link propertyLink')\n",
    "        \n",
    "        links.append(link['href'])"
   ]
  },
  {
   "cell_type": "markdown",
   "id": "f7e7cde2-da14-461e-9d35-7a37dc324c5c",
   "metadata": {},
   "source": [
    "###\n",
    "### Roslyn"
   ]
  },
  {
   "cell_type": "code",
   "execution_count": 91,
   "id": "85abf0aa-fab2-40df-a75e-7530cf085697",
   "metadata": {},
   "outputs": [],
   "source": [
    "base = 'https://www.weichert.com/NY/Nassau/Roslyn/'\n",
    "for pageNum in range(1, 3):\n",
    "    url = f'{base}?pg={pageNum}'\n",
    "    res = requests.get(url)\n",
    "    soup = BeautifulSoup(res.text, 'html.parser')\n",
    "    \n",
    "    mainDiv = soup.find('div', id='listings')\n",
    "    \n",
    "    indivDiv = mainDiv.find_all('div', class_='listing')\n",
    "    \n",
    "    for elements in indivDiv:\n",
    "        link = elements.find('a', class_='card-link propertyLink')\n",
    "        \n",
    "        links.append(link['href'])"
   ]
  },
  {
   "cell_type": "markdown",
   "id": "ccd75962-d144-4563-a0fe-3553591a1cef",
   "metadata": {},
   "source": [
    "###\n",
    "### Wantagh"
   ]
  },
  {
   "cell_type": "code",
   "execution_count": 92,
   "id": "4b9d0c75-f9b5-4882-ac3f-b180816678b2",
   "metadata": {},
   "outputs": [],
   "source": [
    "base ='https://www.weichert.com/NY/Nassau/Wantagh/'\n",
    "for pageNum in range(1, 5):\n",
    "    url = f'{base}?pg={pageNum}'\n",
    "    res = requests.get(url)\n",
    "    soup = BeautifulSoup(res.text, 'html.parser')\n",
    "    \n",
    "    mainDiv = soup.find('div', id='listings')\n",
    "    \n",
    "    indivDiv = mainDiv.find_all('div', class_='listing')\n",
    "    \n",
    "    for elements in indivDiv:\n",
    "        link = elements.find('a', class_='card-link propertyLink')\n",
    "        \n",
    "        links.append(link['href'])"
   ]
  },
  {
   "cell_type": "markdown",
   "id": "20398c6c-c706-4dae-8e93-d1c7ca5f361c",
   "metadata": {},
   "source": [
    "###\n",
    "### Great Neck"
   ]
  },
  {
   "cell_type": "code",
   "execution_count": 93,
   "id": "8ef31a58-9271-4289-8d2f-f9d724e35cb6",
   "metadata": {},
   "outputs": [],
   "source": [
    "base = 'https://www.weichert.com/NY/Nassau/Great_Neck/'\n",
    "for pageNum in range(1, 11):\n",
    "    url = f'{base}?pg={pageNum}'\n",
    "    res = requests.get(url)\n",
    "    soup = BeautifulSoup(res.text, 'html.parser')\n",
    "    \n",
    "    mainDiv = soup.find('div', id='listings')\n",
    "    \n",
    "    indivDiv = mainDiv.find_all('div', class_='listing')\n",
    "    \n",
    "    for elements in indivDiv:\n",
    "        link = elements.find('a', class_='card-link propertyLink')\n",
    "        \n",
    "        links.append(link['href'])"
   ]
  },
  {
   "cell_type": "markdown",
   "id": "2c9cfb0f-7544-4ea3-a383-1357ab01c0e9",
   "metadata": {},
   "source": [
    "###\n",
    "### Jericho"
   ]
  },
  {
   "cell_type": "code",
   "execution_count": 94,
   "id": "bc82400d-d185-49e7-b9fa-a0c39dbcdfe3",
   "metadata": {},
   "outputs": [],
   "source": [
    "base = 'https://www.weichert.com/NY/Nassau/Jericho/'\n",
    "for pageNum in range(1, 5):\n",
    "    url = f'{base}?pg={pageNum}'\n",
    "    res = requests.get(url)\n",
    "    soup = BeautifulSoup(res.text, 'html.parser')\n",
    "    \n",
    "    mainDiv = soup.find('div', id='listings')\n",
    "    \n",
    "    indivDiv = mainDiv.find_all('div', class_='listing')\n",
    "    \n",
    "    for elements in indivDiv:\n",
    "        link = elements.find('a', class_='card-link propertyLink')\n",
    "        \n",
    "        links.append(link['href'])"
   ]
  },
  {
   "cell_type": "markdown",
   "id": "e374e5b4-23e1-48de-8071-567258f5d4b4",
   "metadata": {},
   "source": [
    "###\n",
    "### Mannahasset"
   ]
  },
  {
   "cell_type": "code",
   "execution_count": 95,
   "id": "8958355d-3ba2-407a-93b9-ddff6e2d4f80",
   "metadata": {},
   "outputs": [],
   "source": [
    "base = 'https://www.weichert.com/NY/Nassau/Manhasset/'\n",
    "for pageNum in range(1, 6):\n",
    "    url = f'{base}?pg={pageNum}'\n",
    "    res = requests.get(url)\n",
    "    soup = BeautifulSoup(res.text, 'html.parser')\n",
    "    \n",
    "    mainDiv = soup.find('div', id='listings')\n",
    "    \n",
    "    indivDiv = mainDiv.find_all('div', class_='listing')\n",
    "    \n",
    "    for elements in indivDiv:\n",
    "        link = elements.find('a', class_='card-link propertyLink')\n",
    "        \n",
    "        links.append(link['href'])"
   ]
  },
  {
   "cell_type": "code",
   "execution_count": 96,
   "id": "e3db4ecd-4ab0-4f83-9afd-1fb794d53512",
   "metadata": {},
   "outputs": [],
   "source": [
    "### 20"
   ]
  },
  {
   "cell_type": "markdown",
   "id": "0d49a2a7-c078-450e-a6e3-faa2835d8f18",
   "metadata": {},
   "source": [
    "###\n",
    "### Plainview"
   ]
  },
  {
   "cell_type": "code",
   "execution_count": 97,
   "id": "0558587d-cc9c-45ab-9e90-f9b5acaebe5a",
   "metadata": {},
   "outputs": [],
   "source": [
    "base = 'https://www.weichert.com/NY/Nassau/Plainview/'\n",
    "for pageNum in range(1, 7):\n",
    "    url = f'{base}?pg={pageNum}'\n",
    "    res = requests.get(url)\n",
    "    soup = BeautifulSoup(res.text, 'html.parser')\n",
    "    \n",
    "    mainDiv = soup.find('div', id='listings')\n",
    "    \n",
    "    indivDiv = mainDiv.find_all('div', class_='listing')\n",
    "    \n",
    "    for elements in indivDiv:\n",
    "        link = elements.find('a', class_='card-link propertyLink')\n",
    "        \n",
    "        links.append(link['href'])"
   ]
  },
  {
   "cell_type": "markdown",
   "id": "eb4e25fc-f425-415a-b642-270747cd3505",
   "metadata": {},
   "source": [
    "###\n",
    "### Port Washington"
   ]
  },
  {
   "cell_type": "code",
   "execution_count": 98,
   "id": "f1cb5c07-0b53-40ff-ad0b-a0372498deb1",
   "metadata": {},
   "outputs": [],
   "source": [
    "base = 'https://www.weichert.com/NY/Nassau/Port_Washington/'\n",
    "for pageNum in range(1, 7):\n",
    "    url = f'{base}?pg={pageNum}'\n",
    "    res = requests.get(url)\n",
    "    soup = BeautifulSoup(res.text, 'html.parser')\n",
    "    \n",
    "    mainDiv = soup.find('div', id='listings')\n",
    "    \n",
    "    indivDiv = mainDiv.find_all('div', class_='listing')\n",
    "    \n",
    "    for elements in indivDiv:\n",
    "        link = elements.find('a', class_='card-link propertyLink')\n",
    "        \n",
    "        links.append(link['href'])"
   ]
  },
  {
   "cell_type": "markdown",
   "id": "e060d38f-e1ec-4697-9c9f-c37fbe8a98ac",
   "metadata": {},
   "source": [
    "###\n",
    "### Seaford"
   ]
  },
  {
   "cell_type": "code",
   "execution_count": 99,
   "id": "5fbf1c53-a0e5-4e4c-b9af-7329b38d5a67",
   "metadata": {},
   "outputs": [],
   "source": [
    "base = 'https://www.weichert.com/NY/Nassau/Seaford/'\n",
    "for pageNum in range(1, 5):\n",
    "    url = f'{base}?pg={pageNum}'\n",
    "    res = requests.get(url)\n",
    "    soup = BeautifulSoup(res.text, 'html.parser')\n",
    "    \n",
    "    mainDiv = soup.find('div', id='listings')\n",
    "    \n",
    "    indivDiv = mainDiv.find_all('div', class_='listing')\n",
    "    \n",
    "    for elements in indivDiv:\n",
    "        link = elements.find('a', class_='card-link propertyLink')\n",
    "        \n",
    "        links.append(link['href'])"
   ]
  },
  {
   "cell_type": "markdown",
   "id": "7a49a86e-4193-4fad-8978-335fc038fcfb",
   "metadata": {},
   "source": [
    "###\n",
    "### Bellerose"
   ]
  },
  {
   "cell_type": "code",
   "execution_count": 100,
   "id": "8aabe1e2-f8a7-4221-93a4-5eb967a7d2f0",
   "metadata": {},
   "outputs": [],
   "source": [
    "base = 'https://www.weichert.com/NY/Queens/Bellerose/'\n",
    "for pageNum in range(1, 5):\n",
    "    url = f'{base}?pg={pageNum}'\n",
    "    res = requests.get(url)\n",
    "    soup = BeautifulSoup(res.text, 'html.parser')\n",
    "    \n",
    "    mainDiv = soup.find('div', id='listings')\n",
    "    \n",
    "    indivDiv = mainDiv.find_all('div', class_='listing')\n",
    "    \n",
    "    for elements in indivDiv:\n",
    "        link = elements.find('a', class_='card-link propertyLink')\n",
    "        \n",
    "        links.append(link['href'])"
   ]
  },
  {
   "cell_type": "markdown",
   "id": "a2b7bf9f-2aa5-45ff-9932-fb35c5280c3f",
   "metadata": {},
   "source": [
    "###\n",
    "### Woodbury"
   ]
  },
  {
   "cell_type": "code",
   "execution_count": 101,
   "id": "e8f0baaf-8813-42dc-8871-7f73bb3b4393",
   "metadata": {},
   "outputs": [],
   "source": [
    "base = 'https://www.weichert.com/NY/Nassau/Woodbury/'\n",
    "for pageNum in range(1, 4):\n",
    "    url = f'{base}?pg={pageNum}'\n",
    "    res = requests.get(url)\n",
    "    soup = BeautifulSoup(res.text, 'html.parser')\n",
    "    \n",
    "    mainDiv = soup.find('div', id='listings')\n",
    "    \n",
    "    indivDiv = mainDiv.find_all('div', class_='listing')\n",
    "    \n",
    "    for elements in indivDiv:\n",
    "        link = elements.find('a', class_='card-link propertyLink')\n",
    "        \n",
    "        links.append(link['href'])"
   ]
  },
  {
   "cell_type": "markdown",
   "id": "ef011ca2-37c0-436f-afa1-d1c946b6ebe5",
   "metadata": {},
   "source": [
    "###\n",
    "### Salisbury"
   ]
  },
  {
   "cell_type": "code",
   "execution_count": 102,
   "id": "152d2f3a-b50b-46f6-9739-5c5ba75e051a",
   "metadata": {},
   "outputs": [],
   "source": [
    "base = 'https://www.weichert.com/NY/Nassau/Hempstead/Salisbury/'\n",
    "for pageNum in range(1, 3):\n",
    "    url = f'{base}?pg={pageNum}'\n",
    "    res = requests.get(url)\n",
    "    soup = BeautifulSoup(res.text, 'html.parser')\n",
    "    \n",
    "    mainDiv = soup.find('div', id='listings')\n",
    "    \n",
    "    indivDiv = mainDiv.find_all('div', class_='listing')\n",
    "    \n",
    "    for elements in indivDiv:\n",
    "        link = elements.find('a', class_='card-link propertyLink')\n",
    "        \n",
    "        links.append(link['href'])"
   ]
  },
  {
   "cell_type": "markdown",
   "id": "ba2e6b81-6127-478d-a30f-c999dea2f248",
   "metadata": {},
   "source": [
    "###\n",
    "### East Hills"
   ]
  },
  {
   "cell_type": "code",
   "execution_count": 104,
   "id": "a8612f2a-de83-4c86-94c6-df3d33c8c645",
   "metadata": {},
   "outputs": [],
   "source": [
    "base = 'https://www.weichert.com/NY/Nassau/East_Hills/'\n",
    "for pageNum in range(1, 3):\n",
    "    url = f'{base}?pg={pageNum}'\n",
    "    res = requests.get(url)\n",
    "    soup = BeautifulSoup(res.text, 'html.parser')\n",
    "    \n",
    "    mainDiv = soup.find('div', id='listings')\n",
    "    \n",
    "    indivDiv = mainDiv.find_all('div', class_='listing')\n",
    "    \n",
    "    for elements in indivDiv:\n",
    "        link = elements.find('a', class_='card-link propertyLink')\n",
    "        \n",
    "        links.append(link['href'])"
   ]
  },
  {
   "cell_type": "markdown",
   "id": "63fb41be-cb5c-44f2-aba1-13abd9fa3a4e",
   "metadata": {},
   "source": [
    "###\n",
    "### Malverne"
   ]
  },
  {
   "cell_type": "code",
   "execution_count": 106,
   "id": "ad8aa6ec-7506-46db-ad7f-b8a07f6d8f04",
   "metadata": {},
   "outputs": [],
   "source": [
    "base = 'https://www.weichert.com/NY/Nassau/Malverne/'\n",
    "for pageNum in range(1, 3):\n",
    "    url = f'{base}?pg={pageNum}'\n",
    "    res = requests.get(url)\n",
    "    soup = BeautifulSoup(res.text, 'html.parser')\n",
    "    \n",
    "    mainDiv = soup.find('div', id='listings')\n",
    "    \n",
    "    indivDiv = mainDiv.find_all('div', class_='listing')\n",
    "    \n",
    "    for elements in indivDiv:\n",
    "        link = elements.find('a', class_='card-link propertyLink')\n",
    "        \n",
    "        links.append(link['href'])"
   ]
  },
  {
   "cell_type": "markdown",
   "id": "cf5b0db5-faab-40b2-ba0b-7f161c413218",
   "metadata": {},
   "source": [
    "###\n",
    "### Locust Valley"
   ]
  },
  {
   "cell_type": "code",
   "execution_count": 108,
   "id": "efc72d84-4194-4a90-939b-2c0e9e1c5ef0",
   "metadata": {},
   "outputs": [],
   "source": [
    "base = 'https://www.weichert.com/NY/Nassau/Locust_Valley/'\n",
    "for pageNum in range(1, 3):\n",
    "    url = f'{base}?pg={pageNum}'\n",
    "    res = requests.get(url)\n",
    "    soup = BeautifulSoup(res.text, 'html.parser')\n",
    "    \n",
    "    mainDiv = soup.find('div', id='listings')\n",
    "    \n",
    "    indivDiv = mainDiv.find_all('div', class_='listing')\n",
    "    \n",
    "    for elements in indivDiv:\n",
    "        link = elements.find('a', class_='card-link propertyLink')\n",
    "        \n",
    "        links.append(link['href'])"
   ]
  },
  {
   "cell_type": "markdown",
   "id": "035aa935-c677-4d70-be08-e18bb28412a5",
   "metadata": {},
   "source": [
    "###\n",
    "### Lawrence"
   ]
  },
  {
   "cell_type": "code",
   "execution_count": 110,
   "id": "5541da04-597b-41e2-98de-1b61b31f72f9",
   "metadata": {},
   "outputs": [],
   "source": [
    "base = 'https://www.weichert.com/NY/Nassau/Lawrence/'\n",
    "for pageNum in range(1, 4):\n",
    "    url = f'{base}?pg={pageNum}'\n",
    "    res = requests.get(url)\n",
    "    soup = BeautifulSoup(res.text, 'html.parser')\n",
    "    \n",
    "    mainDiv = soup.find('div', id='listings')\n",
    "    \n",
    "    indivDiv = mainDiv.find_all('div', class_='listing')\n",
    "    \n",
    "    for elements in indivDiv:\n",
    "        link = elements.find('a', class_='card-link propertyLink')\n",
    "        \n",
    "        links.append(link['href'])"
   ]
  },
  {
   "cell_type": "code",
   "execution_count": 111,
   "id": "511be2ba-6e8b-45ae-ba49-fc183a440957",
   "metadata": {},
   "outputs": [],
   "source": [
    "#30"
   ]
  },
  {
   "cell_type": "code",
   "execution_count": 115,
   "id": "d71abefd-bb85-427c-b33d-db36ba5433d2",
   "metadata": {},
   "outputs": [
    {
     "data": {
      "text/plain": [
       "2213"
      ]
     },
     "execution_count": 115,
     "metadata": {},
     "output_type": "execute_result"
    }
   ],
   "source": [
    "len(links)"
   ]
  },
  {
   "cell_type": "code",
   "execution_count": null,
   "id": "41d21124-e05b-4d18-a85f-2f9ef8185805",
   "metadata": {},
   "outputs": [],
   "source": []
  },
  {
   "cell_type": "markdown",
   "id": "2d3a4b51-2b82-4fb8-99a8-5534f203f0d8",
   "metadata": {},
   "source": [
    "#\n",
    "# Batch 3"
   ]
  },
  {
   "cell_type": "code",
   "execution_count": 3,
   "id": "9629785b-fe2f-402c-9a9c-b5c98e84742c",
   "metadata": {},
   "outputs": [],
   "source": [
    "links = pd.read_csv('HomeLinks.csv')"
   ]
  },
  {
   "cell_type": "code",
   "execution_count": 11,
   "id": "41bd03fe-376e-4b9c-acc1-c1460d1cd560",
   "metadata": {},
   "outputs": [],
   "source": [
    "links = []"
   ]
  },
  {
   "cell_type": "code",
   "execution_count": 9,
   "id": "2fd2caf9-d273-4ff7-ac94-b1d9060af36d",
   "metadata": {},
   "outputs": [
    {
     "name": "stdout",
     "output_type": "stream",
     "text": [
      "1\n"
     ]
    }
   ],
   "source": []
  },
  {
   "cell_type": "markdown",
   "id": "54844c94-9987-4187-b3bc-fcfa421b2541",
   "metadata": {},
   "source": [
    "###\n",
    "### Oyster Bay"
   ]
  },
  {
   "cell_type": "code",
   "execution_count": 12,
   "id": "b37657d0-6599-446c-86c7-67334d0f43f7",
   "metadata": {},
   "outputs": [],
   "source": [
    "base = 'https://www.weichert.com/NY/Nassau/Oyster_Bay/'\n",
    "max = 2\n",
    "for pageNum in range(1, max):\n",
    "    url = f'{base}?pg={pageNum}'\n",
    "    res = requests.get(url)\n",
    "    soup = BeautifulSoup(res.text, 'html.parser')\n",
    "    \n",
    "    mainDiv = soup.find('div', id='listings')\n",
    "    \n",
    "    indivDiv = mainDiv.find_all('div', class_='listing')\n",
    "    \n",
    "    for elements in indivDiv:\n",
    "        link = elements.find('a', class_='card-link propertyLink')\n",
    "        \n",
    "        links.append(link['href'])"
   ]
  },
  {
   "cell_type": "markdown",
   "id": "6d89e85e-e30a-4436-b47d-b4e3738f0d75",
   "metadata": {},
   "source": [
    "###\n",
    "### Carle Place"
   ]
  },
  {
   "cell_type": "code",
   "execution_count": 13,
   "id": "e958a0b5-0303-4eeb-b5be-7b38197d803e",
   "metadata": {},
   "outputs": [],
   "source": [
    "base = 'https://www.weichert.com/NY/Nassau/Carle_Place/'\n",
    "max = 2\n",
    "for pageNum in range(1, max):\n",
    "    url = f'{base}?pg={pageNum}'\n",
    "    res = requests.get(url)\n",
    "    soup = BeautifulSoup(res.text, 'html.parser')\n",
    "    \n",
    "    mainDiv = soup.find('div', id='listings')\n",
    "    \n",
    "    indivDiv = mainDiv.find_all('div', class_='listing')\n",
    "    \n",
    "    for elements in indivDiv:\n",
    "        link = elements.find('a', class_='card-link propertyLink')\n",
    "        \n",
    "        links.append(link['href'])"
   ]
  },
  {
   "cell_type": "markdown",
   "id": "beb90a04-4e34-47c8-9835-4bfb2b0c46f3",
   "metadata": {},
   "source": [
    "###\n",
    "### South Hempstead"
   ]
  },
  {
   "cell_type": "code",
   "execution_count": 14,
   "id": "ce96bed4-73d0-47dc-b323-e507f8444cbf",
   "metadata": {},
   "outputs": [],
   "source": [
    "base = 'https://www.weichert.com/NY/Nassau/South_Hempstead/'\n",
    "max = 2\n",
    "for pageNum in range(1, max):\n",
    "    url = f'{base}?pg={pageNum}'\n",
    "    res = requests.get(url)\n",
    "    soup = BeautifulSoup(res.text, 'html.parser')\n",
    "    \n",
    "    mainDiv = soup.find('div', id='listings')\n",
    "    \n",
    "    indivDiv = mainDiv.find_all('div', class_='listing')\n",
    "    \n",
    "    for elements in indivDiv:\n",
    "        link = elements.find('a', class_='card-link propertyLink')\n",
    "        \n",
    "        links.append(link['href'])"
   ]
  },
  {
   "cell_type": "markdown",
   "id": "4c7b25ef-9274-44ef-ae67-c666c1b4602d",
   "metadata": {},
   "source": [
    "###\n",
    "### South Garden City"
   ]
  },
  {
   "cell_type": "code",
   "execution_count": 15,
   "id": "835a3522-a504-4d50-b2b5-9fc545b67c24",
   "metadata": {},
   "outputs": [],
   "source": [
    "base = 'https://www.weichert.com/NY/Nassau/Garden_City_South/Garden_City_South/'\n",
    "max = 2\n",
    "for pageNum in range(1, max):\n",
    "    url = f'{base}?pg={pageNum}'\n",
    "    res = requests.get(url)\n",
    "    soup = BeautifulSoup(res.text, 'html.parser')\n",
    "    \n",
    "    mainDiv = soup.find('div', id='listings')\n",
    "    \n",
    "    indivDiv = mainDiv.find_all('div', class_='listing')\n",
    "    \n",
    "    for elements in indivDiv:\n",
    "        link = elements.find('a', class_='card-link propertyLink')\n",
    "        \n",
    "        links.append(link['href'])"
   ]
  },
  {
   "cell_type": "code",
   "execution_count": 16,
   "id": "70c82615-cc4e-47b6-83cc-4d01ba6a6437",
   "metadata": {},
   "outputs": [],
   "source": [
    "###\n",
    "### Herricks"
   ]
  },
  {
   "cell_type": "code",
   "execution_count": 17,
   "id": "dfc41fdd-7ca0-433f-8503-a1d05d9cf74f",
   "metadata": {},
   "outputs": [
    {
     "ename": "SyntaxError",
     "evalue": "unterminated string literal (detected at line 1) (263124267.py, line 1)",
     "output_type": "error",
     "traceback": [
      "\u001b[0;36m  Cell \u001b[0;32mIn[17], line 1\u001b[0;36m\u001b[0m\n\u001b[0;31m    base = 'https://www.weichert.com/NY/Nassau/Herricks/Herricks/\u001b[0m\n\u001b[0m           ^\u001b[0m\n\u001b[0;31mSyntaxError\u001b[0m\u001b[0;31m:\u001b[0m unterminated string literal (detected at line 1)\n"
     ]
    }
   ],
   "source": [
    "base = 'https://www.weichert.com/NY/Nassau/Herricks/Herricks/\n",
    "max = 2\n",
    "for pageNum in range(1, max):\n",
    "    url = f'{base}?pg={pageNum}'\n",
    "    res = requests.get(url)\n",
    "    soup = BeautifulSoup(res.text, 'html.parser')\n",
    "    \n",
    "    mainDiv = soup.find('div', id='listings')\n",
    "    \n",
    "    indivDiv = mainDiv.find_all('div', class_='listing')\n",
    "    \n",
    "    for elements in indivDiv:\n",
    "        link = elements.find('a', class_='card-link propertyLink')\n",
    "        \n",
    "        links.append(link['href'])"
   ]
  },
  {
   "cell_type": "code",
   "execution_count": null,
   "id": "59e5ead9-d96f-4e01-9922-45d33133b783",
   "metadata": {},
   "outputs": [],
   "source": [
    "###\n",
    "### Plainedge"
   ]
  },
  {
   "cell_type": "code",
   "execution_count": null,
   "id": "226cf98c-2969-4f8d-8f0e-f2dab67e4c18",
   "metadata": {},
   "outputs": [],
   "source": [
    "base = 'https://www.weichert.com/NY/Nassau/Plainedge/Plainedge/'\n",
    "max = 2\n",
    "for pageNum in range(1, max):\n",
    "    url = f'{base}?pg={pageNum}'\n",
    "    res = requests.get(url)\n",
    "    soup = BeautifulSoup(res.text, 'html.parser')\n",
    "    \n",
    "    mainDiv = soup.find('div', id='listings')\n",
    "    \n",
    "    indivDiv = mainDiv.find_all('div', class_='listing')\n",
    "    \n",
    "    for elements in indivDiv:\n",
    "        link = elements.find('a', class_='card-link propertyLink')\n",
    "        \n",
    "        links.append(link['href'])"
   ]
  },
  {
   "cell_type": "code",
   "execution_count": null,
   "id": "91f24945-3066-44eb-8d6e-6e5e5c7a43d5",
   "metadata": {},
   "outputs": [],
   "source": [
    "###\n",
    "### Manorhaven"
   ]
  },
  {
   "cell_type": "code",
   "execution_count": null,
   "id": "477a60a1-b27e-4600-b936-72b18029d7b4",
   "metadata": {},
   "outputs": [],
   "source": [
    "base = 'https://www.weichert.com/NY/Nassau/Manorhaven/Manorhaven/'\n",
    "max = 3\n",
    "for pageNum in range(1, max):\n",
    "    url = f'{base}?pg={pageNum}'\n",
    "    res = requests.get(url)\n",
    "    soup = BeautifulSoup(res.text, 'html.parser')\n",
    "    \n",
    "    mainDiv = soup.find('div', id='listings')\n",
    "    \n",
    "    indivDiv = mainDiv.find_all('div', class_='listing')\n",
    "    \n",
    "    for elements in indivDiv:\n",
    "        link = elements.find('a', class_='card-link propertyLink')\n",
    "        \n",
    "        links.append(link['href'])"
   ]
  },
  {
   "cell_type": "code",
   "execution_count": null,
   "id": "1cdd14d8-914e-486b-a74a-ea6203257a2a",
   "metadata": {},
   "outputs": [],
   "source": [
    "###\n",
    "### Bayville"
   ]
  },
  {
   "cell_type": "code",
   "execution_count": null,
   "id": "b4729844-ebd0-423a-99de-17be750237b0",
   "metadata": {},
   "outputs": [],
   "source": [
    "base = 'https://www.weichert.com/NY/Nassau/Bayville/'\n",
    "max = 2\n",
    "for pageNum in range(1, max):\n",
    "    url = f'{base}?pg={pageNum}'\n",
    "    res = requests.get(url)\n",
    "    soup = BeautifulSoup(res.text, 'html.parser')\n",
    "    \n",
    "    mainDiv = soup.find('div', id='listings')\n",
    "    \n",
    "    indivDiv = mainDiv.find_all('div', class_='listing')\n",
    "    \n",
    "    for elements in indivDiv:\n",
    "        link = elements.find('a', class_='card-link propertyLink')\n",
    "        \n",
    "        links.append(link['href'])"
   ]
  },
  {
   "cell_type": "code",
   "execution_count": null,
   "id": "0e81ee17-2501-416e-ab17-ee2812cf548c",
   "metadata": {},
   "outputs": [],
   "source": [
    "###\n",
    "### East Williston"
   ]
  },
  {
   "cell_type": "code",
   "execution_count": 18,
   "id": "1a489536-85c1-4f7f-8154-14f5de5f57ad",
   "metadata": {},
   "outputs": [],
   "source": [
    "base = 'https://www.weichert.com/NY/Nassau/East_Williston/'\n",
    "max = 2\n",
    "for pageNum in range(1, max):\n",
    "    url = f'{base}?pg={pageNum}'\n",
    "    res = requests.get(url)\n",
    "    soup = BeautifulSoup(res.text, 'html.parser')\n",
    "    \n",
    "    mainDiv = soup.find('div', id='listings')\n",
    "    \n",
    "    indivDiv = mainDiv.find_all('div', class_='listing')\n",
    "    \n",
    "    for elements in indivDiv:\n",
    "        link = elements.find('a', class_='card-link propertyLink')\n",
    "        \n",
    "        links.append(link['href'])"
   ]
  },
  {
   "cell_type": "code",
   "execution_count": 19,
   "id": "d511127e-f458-4b03-bb80-aa362c8f0e97",
   "metadata": {},
   "outputs": [],
   "source": [
    "###\n",
    "### East Massapequa"
   ]
  },
  {
   "cell_type": "code",
   "execution_count": 20,
   "id": "a1e4710e-fcd4-44fa-b065-55870eaf29c6",
   "metadata": {},
   "outputs": [],
   "source": [
    "base = 'https://www.weichert.com/NY/Nassau/East_Massapequa/East_Massapequa/'\n",
    "max = 5\n",
    "for pageNum in range(1, max):\n",
    "    url = f'{base}?pg={pageNum}'\n",
    "    res = requests.get(url)\n",
    "    soup = BeautifulSoup(res.text, 'html.parser')\n",
    "    \n",
    "    mainDiv = soup.find('div', id='listings')\n",
    "    \n",
    "    indivDiv = mainDiv.find_all('div', class_='listing')\n",
    "    \n",
    "    for elements in indivDiv:\n",
    "        link = elements.find('a', class_='card-link propertyLink')\n",
    "        \n",
    "        links.append(link['href'])"
   ]
  },
  {
   "cell_type": "markdown",
   "id": "d815596b-6a42-47e1-a1de-69bd33ba37e4",
   "metadata": {},
   "source": [
    "# 10 "
   ]
  },
  {
   "cell_type": "code",
   "execution_count": 21,
   "id": "6ca0bbb0-fa1d-4251-a52f-3106350fa4cc",
   "metadata": {},
   "outputs": [],
   "source": [
    "###\n",
    "### Bethpage"
   ]
  },
  {
   "cell_type": "code",
   "execution_count": 22,
   "id": "b61fe3d9-adb0-439f-883e-f1db6b7bdb48",
   "metadata": {},
   "outputs": [],
   "source": [
    "base = 'https://www.weichert.com/NY/Nassau/Bethpage/'\n",
    "max = 5\n",
    "for pageNum in range(1, max):\n",
    "    url = f'{base}?pg={pageNum}'\n",
    "    res = requests.get(url)\n",
    "    soup = BeautifulSoup(res.text, 'html.parser')\n",
    "    \n",
    "    mainDiv = soup.find('div', id='listings')\n",
    "    \n",
    "    indivDiv = mainDiv.find_all('div', class_='listing')\n",
    "    \n",
    "    for elements in indivDiv:\n",
    "        link = elements.find('a', class_='card-link propertyLink')\n",
    "        \n",
    "        links.append(link['href'])"
   ]
  },
  {
   "cell_type": "code",
   "execution_count": 23,
   "id": "6c72f3b1-559e-4728-a767-dec0ca28a49a",
   "metadata": {},
   "outputs": [],
   "source": [
    "###\n",
    "### Old bethpage"
   ]
  },
  {
   "cell_type": "code",
   "execution_count": 24,
   "id": "d1f6a85e-662f-4288-b818-4da32c94aa76",
   "metadata": {},
   "outputs": [],
   "source": [
    "base = 'https://www.weichert.com/NY/Nassau/Old_Bethpage/'\n",
    "max = 2\n",
    "for pageNum in range(1, max):\n",
    "    url = f'{base}?pg={pageNum}'\n",
    "    res = requests.get(url)\n",
    "    soup = BeautifulSoup(res.text, 'html.parser')\n",
    "    \n",
    "    mainDiv = soup.find('div', id='listings')\n",
    "    \n",
    "    indivDiv = mainDiv.find_all('div', class_='listing')\n",
    "    \n",
    "    for elements in indivDiv:\n",
    "        link = elements.find('a', class_='card-link propertyLink')\n",
    "        \n",
    "        links.append(link['href'])"
   ]
  },
  {
   "cell_type": "code",
   "execution_count": 25,
   "id": "5cabad98-74a7-46d9-94fe-cb8e3ae1fdfb",
   "metadata": {},
   "outputs": [],
   "source": [
    "###\n",
    "### Glen Head"
   ]
  },
  {
   "cell_type": "code",
   "execution_count": 26,
   "id": "3a7468e0-fdf1-4a9b-b214-f8bba10bba6d",
   "metadata": {},
   "outputs": [],
   "source": [
    "base = 'https://www.weichert.com/NY/Nassau/Glen_Head/'\n",
    "max = 2\n",
    "for pageNum in range(1, max):\n",
    "    url = f'{base}?pg={pageNum}'\n",
    "    res = requests.get(url)\n",
    "    soup = BeautifulSoup(res.text, 'html.parser')\n",
    "    \n",
    "    mainDiv = soup.find('div', id='listings')\n",
    "    \n",
    "    indivDiv = mainDiv.find_all('div', class_='listing')\n",
    "    \n",
    "    for elements in indivDiv:\n",
    "        link = elements.find('a', class_='card-link propertyLink')\n",
    "        \n",
    "        links.append(link['href'])"
   ]
  },
  {
   "cell_type": "code",
   "execution_count": 27,
   "id": "01711f35-0a6e-400a-8559-4de5c7e21495",
   "metadata": {},
   "outputs": [],
   "source": [
    "###\n",
    "### North Massapequa"
   ]
  },
  {
   "cell_type": "code",
   "execution_count": 28,
   "id": "74eec945-9741-4e47-ad27-bd759c6dea33",
   "metadata": {},
   "outputs": [],
   "source": [
    "base = 'https://www.weichert.com/NY/Nassau/North_Massapequa/North_Massapequa/'\n",
    "max = 4\n",
    "for pageNum in range(1, max):\n",
    "    url = f'{base}?pg={pageNum}'\n",
    "    res = requests.get(url)\n",
    "    soup = BeautifulSoup(res.text, 'html.parser')\n",
    "    \n",
    "    mainDiv = soup.find('div', id='listings')\n",
    "    \n",
    "    indivDiv = mainDiv.find_all('div', class_='listing')\n",
    "    \n",
    "    for elements in indivDiv:\n",
    "        link = elements.find('a', class_='card-link propertyLink')\n",
    "        \n",
    "        links.append(link['href'])"
   ]
  },
  {
   "cell_type": "code",
   "execution_count": 29,
   "id": "b636ac4c-a43b-42ca-9c36-3713db259f3e",
   "metadata": {},
   "outputs": [],
   "source": [
    "###\n",
    "### North Merrick"
   ]
  },
  {
   "cell_type": "code",
   "execution_count": 30,
   "id": "31f5af30-2242-4f28-b94f-6b6888f69b3a",
   "metadata": {},
   "outputs": [],
   "source": [
    "base = 'https://www.weichert.com/NY/Nassau/North_Merrick/North_Merrick/'\n",
    "max = 3\n",
    "for pageNum in range(1, max):\n",
    "    url = f'{base}?pg={pageNum}'\n",
    "    res = requests.get(url)\n",
    "    soup = BeautifulSoup(res.text, 'html.parser')\n",
    "    \n",
    "    mainDiv = soup.find('div', id='listings')\n",
    "    \n",
    "    indivDiv = mainDiv.find_all('div', class_='listing')\n",
    "    \n",
    "    for elements in indivDiv:\n",
    "        link = elements.find('a', class_='card-link propertyLink')\n",
    "        \n",
    "        links.append(link['href'])"
   ]
  },
  {
   "cell_type": "code",
   "execution_count": 31,
   "id": "c524e411-9223-46c6-88ac-3407173b20ec",
   "metadata": {},
   "outputs": [],
   "source": [
    "#15\n",
    "###\n",
    "### North Valley Stream"
   ]
  },
  {
   "cell_type": "code",
   "execution_count": 32,
   "id": "a34140a8-3322-4f9a-925c-a4e3d7324f15",
   "metadata": {},
   "outputs": [],
   "source": [
    "base = 'https://www.weichert.com/NY/Nassau/Valley_Stream/North_Valley_Stream/'\n",
    "max = 4\n",
    "for pageNum in range(1, max):\n",
    "    url = f'{base}?pg={pageNum}'\n",
    "    res = requests.get(url)\n",
    "    soup = BeautifulSoup(res.text, 'html.parser')\n",
    "    \n",
    "    mainDiv = soup.find('div', id='listings')\n",
    "    \n",
    "    indivDiv = mainDiv.find_all('div', class_='listing')\n",
    "    \n",
    "    for elements in indivDiv:\n",
    "        link = elements.find('a', class_='card-link propertyLink')\n",
    "        \n",
    "        links.append(link['href'])"
   ]
  },
  {
   "cell_type": "code",
   "execution_count": 33,
   "id": "a41d9fd2-9d34-4f9c-96f9-ff0692407580",
   "metadata": {},
   "outputs": [],
   "source": [
    "###\n",
    "### North Wantagh"
   ]
  },
  {
   "cell_type": "code",
   "execution_count": 34,
   "id": "ec3118f0-5ea3-4fba-934e-4ffe140a2f27",
   "metadata": {},
   "outputs": [],
   "source": [
    "base = 'https://www.weichert.com/NY/Nassau/North_Wantagh/North_Wantagh/?sortby=Price'\n",
    "max = 3\n",
    "for pageNum in range(1, max):\n",
    "    url = f'{base}?pg={pageNum}'\n",
    "    res = requests.get(url)\n",
    "    soup = BeautifulSoup(res.text, 'html.parser')\n",
    "    \n",
    "    mainDiv = soup.find('div', id='listings')\n",
    "    \n",
    "    indivDiv = mainDiv.find_all('div', class_='listing')\n",
    "    \n",
    "    for elements in indivDiv:\n",
    "        link = elements.find('a', class_='card-link propertyLink')\n",
    "        \n",
    "        links.append(link['href'])"
   ]
  },
  {
   "cell_type": "code",
   "execution_count": 35,
   "id": "b3272c08-8163-4bed-b361-c9a175f1d2a0",
   "metadata": {},
   "outputs": [],
   "source": [
    "###\n",
    "### North New Hyde Park"
   ]
  },
  {
   "cell_type": "code",
   "execution_count": 36,
   "id": "eb2a564a-eb1c-40a9-a0df-99dc7b1b777e",
   "metadata": {},
   "outputs": [],
   "source": [
    "base = 'https://www.weichert.com/NY/Nassau/North_New_Hyde_Park/North_New_Hyde_Park/'\n",
    "max = 4\n",
    "for pageNum in range(1, max):\n",
    "    url = f'{base}?pg={pageNum}'\n",
    "    res = requests.get(url)\n",
    "    soup = BeautifulSoup(res.text, 'html.parser')\n",
    "    \n",
    "    mainDiv = soup.find('div', id='listings')\n",
    "    \n",
    "    indivDiv = mainDiv.find_all('div', class_='listing')\n",
    "    \n",
    "    for elements in indivDiv:\n",
    "        link = elements.find('a', class_='card-link propertyLink')\n",
    "        \n",
    "        links.append(link['href'])"
   ]
  },
  {
   "cell_type": "code",
   "execution_count": 37,
   "id": "6b1286f0-2267-425b-b95d-45e5774e27b1",
   "metadata": {},
   "outputs": [],
   "source": [
    "###\n",
    "### Port Washington"
   ]
  },
  {
   "cell_type": "code",
   "execution_count": 38,
   "id": "11a88080-16a9-4ebf-b553-88fdd4b515d7",
   "metadata": {},
   "outputs": [],
   "source": [
    "base = 'https://www.weichert.com/NY/Nassau/Port_Washington/'\n",
    "max = 7\n",
    "for pageNum in range(1, max):\n",
    "    url = f'{base}?pg={pageNum}'\n",
    "    res = requests.get(url)\n",
    "    soup = BeautifulSoup(res.text, 'html.parser')\n",
    "    \n",
    "    mainDiv = soup.find('div', id='listings')\n",
    "    \n",
    "    indivDiv = mainDiv.find_all('div', class_='listing')\n",
    "    \n",
    "    for elements in indivDiv:\n",
    "        link = elements.find('a', class_='card-link propertyLink')\n",
    "        \n",
    "        links.append(link['href'])"
   ]
  },
  {
   "cell_type": "code",
   "execution_count": 39,
   "id": "e298058f-c141-4f9e-afa0-ce90f81e18ee",
   "metadata": {},
   "outputs": [],
   "source": [
    "###\n",
    "### Sea Cliff"
   ]
  },
  {
   "cell_type": "code",
   "execution_count": 40,
   "id": "436bff29-9076-478f-a255-7803e5f10e4e",
   "metadata": {},
   "outputs": [],
   "source": [
    "base = 'https://www.weichert.com/NY/Nassau/Sea_Cliff/'\n",
    "max = 2\n",
    "for pageNum in range(1, max):\n",
    "    url = f'{base}?pg={pageNum}'\n",
    "    res = requests.get(url)\n",
    "    soup = BeautifulSoup(res.text, 'html.parser')\n",
    "    \n",
    "    mainDiv = soup.find('div', id='listings')\n",
    "    \n",
    "    indivDiv = mainDiv.find_all('div', class_='listing')\n",
    "    \n",
    "    for elements in indivDiv:\n",
    "        link = elements.find('a', class_='card-link propertyLink')\n",
    "        \n",
    "        links.append(link['href'])"
   ]
  },
  {
   "cell_type": "markdown",
   "id": "9cbb0e7a-74b3-48e5-bbbf-449fada32b1e",
   "metadata": {},
   "source": [
    "# 20"
   ]
  },
  {
   "cell_type": "code",
   "execution_count": 41,
   "id": "6e732306-399d-45bf-b506-b6f5d1ce3dae",
   "metadata": {},
   "outputs": [],
   "source": [
    "###\n",
    "### Hewlett"
   ]
  },
  {
   "cell_type": "code",
   "execution_count": 42,
   "id": "b772f7aa-4afe-4127-8613-83927f420a10",
   "metadata": {},
   "outputs": [],
   "source": [
    "base = 'https://www.weichert.com/NY/Nassau/Hewlett/Hewlett/'\n",
    "max = 4\n",
    "for pageNum in range(1, max):\n",
    "    url = f'{base}?pg={pageNum}'\n",
    "    res = requests.get(url)\n",
    "    soup = BeautifulSoup(res.text, 'html.parser')\n",
    "    \n",
    "    mainDiv = soup.find('div', id='listings')\n",
    "    \n",
    "    indivDiv = mainDiv.find_all('div', class_='listing')\n",
    "    \n",
    "    for elements in indivDiv:\n",
    "        link = elements.find('a', class_='card-link propertyLink')\n",
    "        \n",
    "        links.append(link['href'])"
   ]
  },
  {
   "cell_type": "code",
   "execution_count": 43,
   "id": "bc52efa3-26b6-4366-96a1-7aa342c34e20",
   "metadata": {},
   "outputs": [],
   "source": [
    "###\n",
    "### Island Park"
   ]
  },
  {
   "cell_type": "code",
   "execution_count": 44,
   "id": "485ea584-b5e6-4922-9868-7d018696edb5",
   "metadata": {},
   "outputs": [],
   "source": [
    "base = 'https://www.weichert.com/NY/Nassau/Island_Park/'\n",
    "max = 3\n",
    "for pageNum in range(1, max):\n",
    "    url = f'{base}?pg={pageNum}'\n",
    "    res = requests.get(url)\n",
    "    soup = BeautifulSoup(res.text, 'html.parser')\n",
    "    \n",
    "    mainDiv = soup.find('div', id='listings')\n",
    "    \n",
    "    indivDiv = mainDiv.find_all('div', class_='listing')\n",
    "    \n",
    "    for elements in indivDiv:\n",
    "        link = elements.find('a', class_='card-link propertyLink')\n",
    "        \n",
    "        links.append(link['href'])"
   ]
  },
  {
   "cell_type": "code",
   "execution_count": 45,
   "id": "2fbffb97-81b5-4d74-99dd-dc7749253084",
   "metadata": {},
   "outputs": [],
   "source": [
    "###\n",
    "### Williston Park"
   ]
  },
  {
   "cell_type": "code",
   "execution_count": 46,
   "id": "4aea3cb0-7828-4d51-9dc3-653d349088d6",
   "metadata": {},
   "outputs": [],
   "source": [
    "base = 'https://www.weichert.com/NY/Nassau/Williston_Park/'\n",
    "max = 2\n",
    "for pageNum in range(1, max):\n",
    "    url = f'{base}?pg={pageNum}'\n",
    "    res = requests.get(url)\n",
    "    soup = BeautifulSoup(res.text, 'html.parser')\n",
    "    \n",
    "    mainDiv = soup.find('div', id='listings')\n",
    "    \n",
    "    indivDiv = mainDiv.find_all('div', class_='listing')\n",
    "    \n",
    "    for elements in indivDiv:\n",
    "        link = elements.find('a', class_='card-link propertyLink')\n",
    "        \n",
    "        links.append(link['href'])"
   ]
  },
  {
   "cell_type": "code",
   "execution_count": 47,
   "id": "a9dd481e-07c0-4e44-b521-fa5974ddd468",
   "metadata": {},
   "outputs": [],
   "source": [
    "###\n",
    "### East Norwhich"
   ]
  },
  {
   "cell_type": "code",
   "execution_count": 48,
   "id": "8f5f2fc9-c37e-4537-a334-909951339ce0",
   "metadata": {},
   "outputs": [],
   "source": [
    "base = 'https://www.weichert.com/NY/Nassau/East_Norwich/'\n",
    "max = 2\n",
    "for pageNum in range(1, max):\n",
    "    url = f'{base}?pg={pageNum}'\n",
    "    res = requests.get(url)\n",
    "    soup = BeautifulSoup(res.text, 'html.parser')\n",
    "    \n",
    "    mainDiv = soup.find('div', id='listings')\n",
    "    \n",
    "    indivDiv = mainDiv.find_all('div', class_='listing')\n",
    "    \n",
    "    for elements in indivDiv:\n",
    "        link = elements.find('a', class_='card-link propertyLink')\n",
    "        \n",
    "        links.append(link['href'])"
   ]
  },
  {
   "cell_type": "code",
   "execution_count": 49,
   "id": "e652effc-265f-4a35-8b4c-a69bcc61fee1",
   "metadata": {},
   "outputs": [],
   "source": [
    "###\n",
    "### Bay Park"
   ]
  },
  {
   "cell_type": "code",
   "execution_count": 50,
   "id": "de319e48-f98f-4771-807e-c742ff2ca669",
   "metadata": {},
   "outputs": [],
   "source": [
    "base = 'https://www.weichert.com/NY/Nassau/East_Rockaway/Bay_Park/'\n",
    "max = 2\n",
    "for pageNum in range(1, max):\n",
    "    url = f'{base}?pg={pageNum}'\n",
    "    res = requests.get(url)\n",
    "    soup = BeautifulSoup(res.text, 'html.parser')\n",
    "    \n",
    "    mainDiv = soup.find('div', id='listings')\n",
    "    \n",
    "    indivDiv = mainDiv.find_all('div', class_='listing')\n",
    "    \n",
    "    for elements in indivDiv:\n",
    "        link = elements.find('a', class_='card-link propertyLink')\n",
    "        \n",
    "        links.append(link['href'])"
   ]
  },
  {
   "cell_type": "code",
   "execution_count": 51,
   "id": "08e5439d-72b6-496f-9814-199e754defe3",
   "metadata": {},
   "outputs": [],
   "source": [
    "###\n",
    "### New Cassel"
   ]
  },
  {
   "cell_type": "code",
   "execution_count": 52,
   "id": "ed53ba71-5cd7-41cb-b4ba-dfe0c08aa24c",
   "metadata": {},
   "outputs": [],
   "source": [
    "base = 'https://www.weichert.com/NY/Nassau/New_Cassel/New_Cassel/'\n",
    "max = 3\n",
    "for pageNum in range(1, max):\n",
    "    url = f'{base}?pg={pageNum}'\n",
    "    res = requests.get(url)\n",
    "    soup = BeautifulSoup(res.text, 'html.parser')\n",
    "    \n",
    "    mainDiv = soup.find('div', id='listings')\n",
    "    \n",
    "    indivDiv = mainDiv.find_all('div', class_='listing')\n",
    "    \n",
    "    for elements in indivDiv:\n",
    "        link = elements.find('a', class_='card-link propertyLink')\n",
    "        \n",
    "        links.append(link['href'])"
   ]
  },
  {
   "cell_type": "code",
   "execution_count": 53,
   "id": "93cb1b88-76b7-4f1e-b6bc-ebd8ab19aa4b",
   "metadata": {},
   "outputs": [],
   "source": [
    "###\n",
    "### Albertson"
   ]
  },
  {
   "cell_type": "code",
   "execution_count": 54,
   "id": "0949ad60-ddae-4a37-a662-6ae8193c8cfd",
   "metadata": {},
   "outputs": [],
   "source": [
    "base = 'https://www.weichert.com/NY/Nassau/Albertson/'\n",
    "max = 3\n",
    "for pageNum in range(1, max):\n",
    "    url = f'{base}?pg={pageNum}'\n",
    "    res = requests.get(url)\n",
    "    soup = BeautifulSoup(res.text, 'html.parser')\n",
    "    \n",
    "    mainDiv = soup.find('div', id='listings')\n",
    "    \n",
    "    indivDiv = mainDiv.find_all('div', class_='listing')\n",
    "    \n",
    "    for elements in indivDiv:\n",
    "        link = elements.find('a', class_='card-link propertyLink')\n",
    "        \n",
    "        links.append(link['href'])"
   ]
  },
  {
   "cell_type": "code",
   "execution_count": 55,
   "id": "9fcbdd60-8c3f-4478-a047-9684689986a3",
   "metadata": {},
   "outputs": [],
   "source": [
    "###\n",
    "### South valley stream"
   ]
  },
  {
   "cell_type": "code",
   "execution_count": 56,
   "id": "a79a527c-25bb-4b51-bb75-a27d01326a56",
   "metadata": {},
   "outputs": [],
   "source": [
    "base = 'https://www.weichert.com/NY/Nassau/Valley_Stream/South_Valley_Stream/'\n",
    "max = 3\n",
    "for pageNum in range(1, max):\n",
    "    url = f'{base}?pg={pageNum}'\n",
    "    res = requests.get(url)\n",
    "    soup = BeautifulSoup(res.text, 'html.parser')\n",
    "    \n",
    "    mainDiv = soup.find('div', id='listings')\n",
    "    \n",
    "    indivDiv = mainDiv.find_all('div', class_='listing')\n",
    "    \n",
    "    for elements in indivDiv:\n",
    "        link = elements.find('a', class_='card-link propertyLink')\n",
    "        \n",
    "        links.append(link['href'])"
   ]
  },
  {
   "cell_type": "code",
   "execution_count": 57,
   "id": "96033b91-ead7-463a-9a65-3b16ff7d9572",
   "metadata": {},
   "outputs": [],
   "source": [
    "###\n",
    "### Bellerose Terrace"
   ]
  },
  {
   "cell_type": "code",
   "execution_count": 58,
   "id": "9675eda6-01b1-443e-bb7a-ccf440ffc61d",
   "metadata": {},
   "outputs": [],
   "source": [
    "base = \"https://www.weichert.com/NY/Nassau/Bellerose_Terrace/Bellerose_Terrace/\"\n",
    "max = 2\n",
    "for pageNum in range(1, max):\n",
    "    url = f'{base}?pg={pageNum}'\n",
    "    res = requests.get(url)\n",
    "    soup = BeautifulSoup(res.text, 'html.parser')\n",
    "    \n",
    "    mainDiv = soup.find('div', id='listings')\n",
    "    \n",
    "    indivDiv = mainDiv.find_all('div', class_='listing')\n",
    "    \n",
    "    for elements in indivDiv:\n",
    "        link = elements.find('a', class_='card-link propertyLink')\n",
    "        \n",
    "        links.append(link['href'])"
   ]
  },
  {
   "cell_type": "code",
   "execution_count": 59,
   "id": "3285ccb8-4e1f-455e-94ac-0cccf958eede",
   "metadata": {},
   "outputs": [],
   "source": [
    "###\n",
    "### Thomaston"
   ]
  },
  {
   "cell_type": "code",
   "execution_count": 60,
   "id": "9c57c182-30eb-4c12-ba30-57db7a89f8ef",
   "metadata": {},
   "outputs": [],
   "source": [
    "base = \"https://www.weichert.com/NY/Nassau/Thomaston/Thomaston/\"\n",
    "max = 2\n",
    "for pageNum in range(1, max):\n",
    "    url = f'{base}?pg={pageNum}'\n",
    "    res = requests.get(url)\n",
    "    soup = BeautifulSoup(res.text, 'html.parser')\n",
    "    \n",
    "    mainDiv = soup.find('div', id='listings')\n",
    "    \n",
    "    indivDiv = mainDiv.find_all('div', class_='listing')\n",
    "    \n",
    "    for elements in indivDiv:\n",
    "        link = elements.find('a', class_='card-link propertyLink')\n",
    "        \n",
    "        links.append(link['href'])"
   ]
  },
  {
   "cell_type": "code",
   "execution_count": 62,
   "id": "f6d52dcd-322a-471a-860c-514cd7308e88",
   "metadata": {},
   "outputs": [
    {
     "data": {
      "text/plain": [
       "812"
      ]
     },
     "execution_count": 62,
     "metadata": {},
     "output_type": "execute_result"
    }
   ],
   "source": [
    "len(links)"
   ]
  },
  {
   "cell_type": "code",
   "execution_count": null,
   "id": "7e5c2c1e-689d-421c-b176-333ac83a8c5a",
   "metadata": {},
   "outputs": [],
   "source": []
  },
  {
   "cell_type": "code",
   "execution_count": 68,
   "id": "f96e889d-a4aa-4c3d-a52b-4d76463c2cba",
   "metadata": {},
   "outputs": [],
   "source": [
    "links=[]"
   ]
  },
  {
   "cell_type": "markdown",
   "id": "b98f78b0-62cb-480c-a1ec-4fddc5e16922",
   "metadata": {},
   "source": [
    "# Batch 4"
   ]
  },
  {
   "cell_type": "code",
   "execution_count": 69,
   "id": "4aecd7f7-8eba-443a-8451-2751bfdca63b",
   "metadata": {},
   "outputs": [],
   "source": [
    "###\n",
    "### Glenwood Landing"
   ]
  },
  {
   "cell_type": "code",
   "execution_count": 70,
   "id": "a1d6fdae-f171-45db-afec-9da38b116e33",
   "metadata": {},
   "outputs": [],
   "source": [
    "base = \"https://www.weichert.com/NY/Nassau/Glenwood_Landing/Glenwood_Landing/\"\n",
    "max = 3\n",
    "for pageNum in range(1, max):\n",
    "    url = f'{base}?pg={pageNum}'\n",
    "    res = requests.get(url)\n",
    "    soup = BeautifulSoup(res.text, 'html.parser')\n",
    "    \n",
    "    mainDiv = soup.find('div', id='listings')\n",
    "    \n",
    "    indivDiv = mainDiv.find_all('div', class_='listing')\n",
    "    \n",
    "    for elements in indivDiv:\n",
    "        link = elements.find('a', class_='card-link propertyLink')\n",
    "        \n",
    "        links.append(link['href'])"
   ]
  },
  {
   "cell_type": "code",
   "execution_count": 71,
   "id": "bb32c1e8-3421-4813-95fb-9d2e369232f0",
   "metadata": {},
   "outputs": [],
   "source": [
    "###\n",
    "### Glenwood Landing"
   ]
  },
  {
   "cell_type": "code",
   "execution_count": 72,
   "id": "498cb2e3-00af-4d7a-b652-c597c65f279f",
   "metadata": {},
   "outputs": [],
   "source": [
    "base = \"https://www.weichert.com/NY/Nassau/Glenwood_Landing/Glenwood_Landing/\"\n",
    "max = 3\n",
    "for pageNum in range(1, max):\n",
    "    url = f'{base}?pg={pageNum}'\n",
    "    res = requests.get(url)\n",
    "    soup = BeautifulSoup(res.text, 'html.parser')\n",
    "    \n",
    "    mainDiv = soup.find('div', id='listings')\n",
    "    \n",
    "    indivDiv = mainDiv.find_all('div', class_='listing')\n",
    "    \n",
    "    for elements in indivDiv:\n",
    "        link = elements.find('a', class_='card-link propertyLink')\n",
    "        \n",
    "        links.append(link['href'])"
   ]
  },
  {
   "cell_type": "code",
   "execution_count": 73,
   "id": "5a1c4397-dfc7-44e0-a922-8a024d4600f6",
   "metadata": {},
   "outputs": [],
   "source": [
    "###\n",
    "### Barnum Island"
   ]
  },
  {
   "cell_type": "code",
   "execution_count": 74,
   "id": "10583c7f-a7d6-498f-a696-73bc068a83d2",
   "metadata": {},
   "outputs": [],
   "source": [
    "base = 'https://www.weichert.com/NY/Nassau/Barnum_Island/Barnum_Island/'\n",
    "max=2\n",
    "for pageNum in range(1, max):\n",
    "    url = f'{base}?pg={pageNum}'\n",
    "    res = requests.get(url)\n",
    "    soup = BeautifulSoup(res.text, 'html.parser')\n",
    "    \n",
    "    mainDiv = soup.find('div', id='listings')\n",
    "    \n",
    "    indivDiv = mainDiv.find_all('div', class_='listing')\n",
    "    \n",
    "    for elements in indivDiv:\n",
    "        link = elements.find('a', class_='card-link propertyLink')\n",
    "        \n",
    "        links.append(link['href'])"
   ]
  },
  {
   "cell_type": "code",
   "execution_count": 75,
   "id": "af1917f0-04b7-4952-b301-b2afa84156a4",
   "metadata": {},
   "outputs": [],
   "source": [
    "###\n",
    "### Harbor Isle"
   ]
  },
  {
   "cell_type": "code",
   "execution_count": 76,
   "id": "b7af49c0-8f15-4f44-b687-12acbd72245e",
   "metadata": {},
   "outputs": [],
   "source": [
    "base = 'https://www.weichert.com/NY/Nassau/Harbor_Isle/Harbor_Isle/'\n",
    "max=2\n",
    "for pageNum in range(1, max):\n",
    "    url = f'{base}?pg={pageNum}'\n",
    "    res = requests.get(url)\n",
    "    soup = BeautifulSoup(res.text, 'html.parser')\n",
    "    \n",
    "    mainDiv = soup.find('div', id='listings')\n",
    "    \n",
    "    indivDiv = mainDiv.find_all('div', class_='listing')\n",
    "    \n",
    "    for elements in indivDiv:\n",
    "        link = elements.find('a', class_='card-link propertyLink')\n",
    "        \n",
    "        links.append(link['href'])"
   ]
  },
  {
   "cell_type": "code",
   "execution_count": 77,
   "id": "436a3fc0-915c-440f-95c2-9399cfd011cb",
   "metadata": {},
   "outputs": [],
   "source": [
    "###\n",
    "### Lido beach"
   ]
  },
  {
   "cell_type": "code",
   "execution_count": 78,
   "id": "07739c37-6208-4f23-84a8-fb2d47c6eedc",
   "metadata": {},
   "outputs": [],
   "source": [
    "base = 'https://www.weichert.com/NY/Nassau/Lido_Beach/'\n",
    "max=3\n",
    "for pageNum in range(1, max):\n",
    "    url = f'{base}?pg={pageNum}'\n",
    "    res = requests.get(url)\n",
    "    soup = BeautifulSoup(res.text, 'html.parser')\n",
    "    \n",
    "    mainDiv = soup.find('div', id='listings')\n",
    "    \n",
    "    indivDiv = mainDiv.find_all('div', class_='listing')\n",
    "    \n",
    "    for elements in indivDiv:\n",
    "        link = elements.find('a', class_='card-link propertyLink')\n",
    "        \n",
    "        links.append(link['href'])"
   ]
  },
  {
   "cell_type": "code",
   "execution_count": 79,
   "id": "4fcd9bcf-c98b-4478-9b62-78e7a2036356",
   "metadata": {},
   "outputs": [],
   "source": [
    "###\n",
    "### Malverne park Oaks"
   ]
  },
  {
   "cell_type": "code",
   "execution_count": 80,
   "id": "4d014969-5df0-471e-b082-7d80499ab2ba",
   "metadata": {},
   "outputs": [],
   "source": [
    "base = 'https://www.weichert.com/NY/Nassau/Hempstead/Malverne_Park_Oaks/'\n",
    "max=2\n",
    "for pageNum in range(1, max):\n",
    "    url = f'{base}?pg={pageNum}'\n",
    "    res = requests.get(url)\n",
    "    soup = BeautifulSoup(res.text, 'html.parser')\n",
    "    \n",
    "    mainDiv = soup.find('div', id='listings')\n",
    "    \n",
    "    indivDiv = mainDiv.find_all('div', class_='listing')\n",
    "    \n",
    "    for elements in indivDiv:\n",
    "        link = elements.find('a', class_='card-link propertyLink')\n",
    "        \n",
    "        links.append(link['href'])"
   ]
  },
  {
   "cell_type": "code",
   "execution_count": 81,
   "id": "6a21cfa1-6938-4f2c-8747-cf80034b65b9",
   "metadata": {},
   "outputs": [],
   "source": [
    "###\n",
    "### University Gardens"
   ]
  },
  {
   "cell_type": "code",
   "execution_count": 82,
   "id": "4e7109da-5ed7-48c5-959b-f016076780ee",
   "metadata": {},
   "outputs": [],
   "source": [
    "base = 'https://www.weichert.com/NY/Nassau/University_Gardens/University_Gardens/'\n",
    "max=3\n",
    "for pageNum in range(1, max):\n",
    "    url = f'{base}?pg={pageNum}'\n",
    "    res = requests.get(url)\n",
    "    soup = BeautifulSoup(res.text, 'html.parser')\n",
    "    \n",
    "    mainDiv = soup.find('div', id='listings')\n",
    "    \n",
    "    indivDiv = mainDiv.find_all('div', class_='listing')\n",
    "    \n",
    "    for elements in indivDiv:\n",
    "        link = elements.find('a', class_='card-link propertyLink')\n",
    "        \n",
    "        links.append(link['href'])"
   ]
  },
  {
   "cell_type": "code",
   "execution_count": 83,
   "id": "ddc7ea1f-750b-4872-a580-8117e83a6787",
   "metadata": {},
   "outputs": [],
   "source": [
    "###\n",
    "### Great Neck Gardens"
   ]
  },
  {
   "cell_type": "code",
   "execution_count": 84,
   "id": "e0cb2bb8-2fd1-43a9-ab08-3ee0a9301648",
   "metadata": {},
   "outputs": [],
   "source": [
    "base = 'https://www.weichert.com/NY/Suffolk/Babylon/Great_Neck_Gardens/'\n",
    "max=2\n",
    "for pageNum in range(1, max):\n",
    "    url = f'{base}?pg={pageNum}'\n",
    "    res = requests.get(url)\n",
    "    soup = BeautifulSoup(res.text, 'html.parser')\n",
    "    \n",
    "    mainDiv = soup.find('div', id='listings')\n",
    "    \n",
    "    indivDiv = mainDiv.find_all('div', class_='listing')\n",
    "    \n",
    "    for elements in indivDiv:\n",
    "        link = elements.find('a', class_='card-link propertyLink')\n",
    "        \n",
    "        links.append(link['href'])"
   ]
  },
  {
   "cell_type": "code",
   "execution_count": 85,
   "id": "d6ee059f-e2a5-4249-a5c6-d42b5b02fca7",
   "metadata": {},
   "outputs": [],
   "source": [
    "###\n",
    "### South Floral Park\n",
    "base = 'https://www.weichert.com/NY/Nassau/South_Floral_Park/South_Floral_Park/'\n",
    "max=2\n",
    "for pageNum in range(1, max):\n",
    "    url = f'{base}?pg={pageNum}'\n",
    "    res = requests.get(url)\n",
    "    soup = BeautifulSoup(res.text, 'html.parser')\n",
    "    \n",
    "    mainDiv = soup.find('div', id='listings')\n",
    "    \n",
    "    indivDiv = mainDiv.find_all('div', class_='listing')\n",
    "    \n",
    "    for elements in indivDiv:\n",
    "        link = elements.find('a', class_='card-link propertyLink')\n",
    "        \n",
    "        links.append(link['href'])"
   ]
  },
  {
   "cell_type": "code",
   "execution_count": 86,
   "id": "ff6ffeb8-82d4-40c4-9a3f-a87c8014daae",
   "metadata": {},
   "outputs": [],
   "source": [
    "###\n",
    "### Lakeview"
   ]
  },
  {
   "cell_type": "code",
   "execution_count": 87,
   "id": "8128bcaa-b062-4279-9338-4df59736b524",
   "metadata": {},
   "outputs": [],
   "source": [
    "base = 'https://www.weichert.com/NY/Nassau/Lakeview/Lakeview/'\n",
    "max=3\n",
    "for pageNum in range(1, max):\n",
    "    url = f'{base}?pg={pageNum}'\n",
    "    res = requests.get(url)\n",
    "    soup = BeautifulSoup(res.text, 'html.parser')\n",
    "    \n",
    "    mainDiv = soup.find('div', id='listings')\n",
    "    \n",
    "    indivDiv = mainDiv.find_all('div', class_='listing')\n",
    "    \n",
    "    for elements in indivDiv:\n",
    "        link = elements.find('a', class_='card-link propertyLink')\n",
    "        \n",
    "        links.append(link['href'])"
   ]
  },
  {
   "cell_type": "code",
   "execution_count": 88,
   "id": "6ceda2d6-d386-4278-b9a1-8c9847407f14",
   "metadata": {},
   "outputs": [],
   "source": [
    "###\n",
    "### South Farmingdale"
   ]
  },
  {
   "cell_type": "code",
   "execution_count": 89,
   "id": "d585d8c8-51c4-479f-aaa0-abb8fda10797",
   "metadata": {},
   "outputs": [],
   "source": [
    "base = 'https://www.weichert.com/NY/Nassau/South_Farmingdale/South_Farmingdale/'\n",
    "max=5\n",
    "for pageNum in range(1, max):\n",
    "    url = f'{base}?pg={pageNum}'\n",
    "    res = requests.get(url)\n",
    "    soup = BeautifulSoup(res.text, 'html.parser')\n",
    "    \n",
    "    mainDiv = soup.find('div', id='listings')\n",
    "    \n",
    "    indivDiv = mainDiv.find_all('div', class_='listing')\n",
    "    \n",
    "    for elements in indivDiv:\n",
    "        link = elements.find('a', class_='card-link propertyLink')\n",
    "        \n",
    "        links.append(link['href'])"
   ]
  },
  {
   "cell_type": "code",
   "execution_count": 90,
   "id": "99fc772b-ad9b-43c2-8313-a9038cfcd83c",
   "metadata": {},
   "outputs": [],
   "source": [
    "###\n",
    "### Garden City park"
   ]
  },
  {
   "cell_type": "code",
   "execution_count": 91,
   "id": "66684551-eb93-4842-9897-ad39b4b249f1",
   "metadata": {},
   "outputs": [],
   "source": [
    "base = 'https://www.weichert.com/NY/Nassau/Garden_City_Park/Garden_City_Park/'\n",
    "max=3\n",
    "for pageNum in range(1, max):\n",
    "    url = f'{base}?pg={pageNum}'\n",
    "    res = requests.get(url)\n",
    "    soup = BeautifulSoup(res.text, 'html.parser')\n",
    "    \n",
    "    mainDiv = soup.find('div', id='listings')\n",
    "    \n",
    "    indivDiv = mainDiv.find_all('div', class_='listing')\n",
    "    \n",
    "    for elements in indivDiv:\n",
    "        link = elements.find('a', class_='card-link propertyLink')\n",
    "        \n",
    "        links.append(link['href'])"
   ]
  },
  {
   "cell_type": "code",
   "execution_count": null,
   "id": "b299b8f2-7a52-4d84-9e46-b88c842bc5e7",
   "metadata": {},
   "outputs": [],
   "source": []
  },
  {
   "cell_type": "code",
   "execution_count": 92,
   "id": "a02d5050-bdc2-4854-b002-c25a94c98ee9",
   "metadata": {},
   "outputs": [
    {
     "data": {
      "text/plain": [
       "259"
      ]
     },
     "execution_count": 92,
     "metadata": {},
     "output_type": "execute_result"
    }
   ],
   "source": [
    "len(links)"
   ]
  },
  {
   "cell_type": "code",
   "execution_count": null,
   "id": "99587dff-5cc8-49c0-a672-6715f1c009c7",
   "metadata": {},
   "outputs": [],
   "source": []
  },
  {
   "cell_type": "code",
   "execution_count": null,
   "id": "346eb822-660b-4152-a600-3c21c674faf5",
   "metadata": {},
   "outputs": [],
   "source": []
  },
  {
   "cell_type": "code",
   "execution_count": null,
   "id": "06760109-0bf7-47c6-a274-6d1b462376da",
   "metadata": {},
   "outputs": [],
   "source": []
  },
  {
   "cell_type": "markdown",
   "id": "db28a248-5ba4-42f0-9cc3-bd7943048913",
   "metadata": {},
   "source": [
    "##\n",
    "## We will now update both our all and temp link csv files.\n",
    "## 'HomeLinks.csv' is the temp links that are fed to step 2.\n",
    "## 'HomeLinks(All).csv' contains every link scraped from the beginning to the end of this project."
   ]
  },
  {
   "cell_type": "code",
   "execution_count": 93,
   "id": "054e9896-847a-49f5-af9a-1738a243649f",
   "metadata": {},
   "outputs": [
    {
     "data": {
      "text/html": [
       "<div>\n",
       "<style scoped>\n",
       "    .dataframe tbody tr th:only-of-type {\n",
       "        vertical-align: middle;\n",
       "    }\n",
       "\n",
       "    .dataframe tbody tr th {\n",
       "        vertical-align: top;\n",
       "    }\n",
       "\n",
       "    .dataframe thead th {\n",
       "        text-align: right;\n",
       "    }\n",
       "</style>\n",
       "<table border=\"1\" class=\"dataframe\">\n",
       "  <thead>\n",
       "    <tr style=\"text-align: right;\">\n",
       "      <th></th>\n",
       "      <th>links</th>\n",
       "    </tr>\n",
       "  </thead>\n",
       "  <tbody>\n",
       "    <tr>\n",
       "      <th>0</th>\n",
       "      <td>/119809331/</td>\n",
       "    </tr>\n",
       "    <tr>\n",
       "      <th>1</th>\n",
       "      <td>/119745305/</td>\n",
       "    </tr>\n",
       "    <tr>\n",
       "      <th>2</th>\n",
       "      <td>/119835316/</td>\n",
       "    </tr>\n",
       "    <tr>\n",
       "      <th>3</th>\n",
       "      <td>/119838571/</td>\n",
       "    </tr>\n",
       "    <tr>\n",
       "      <th>4</th>\n",
       "      <td>/119659218/</td>\n",
       "    </tr>\n",
       "    <tr>\n",
       "      <th>...</th>\n",
       "      <td>...</td>\n",
       "    </tr>\n",
       "    <tr>\n",
       "      <th>4593</th>\n",
       "      <td>/118738557/</td>\n",
       "    </tr>\n",
       "    <tr>\n",
       "      <th>4594</th>\n",
       "      <td>/118697846/</td>\n",
       "    </tr>\n",
       "    <tr>\n",
       "      <th>4595</th>\n",
       "      <td>/116195702/</td>\n",
       "    </tr>\n",
       "    <tr>\n",
       "      <th>4596</th>\n",
       "      <td>/116116452/</td>\n",
       "    </tr>\n",
       "    <tr>\n",
       "      <th>4597</th>\n",
       "      <td>/114930351/</td>\n",
       "    </tr>\n",
       "  </tbody>\n",
       "</table>\n",
       "<p>4598 rows × 1 columns</p>\n",
       "</div>"
      ],
      "text/plain": [
       "            links\n",
       "0     /119809331/\n",
       "1     /119745305/\n",
       "2     /119835316/\n",
       "3     /119838571/\n",
       "4     /119659218/\n",
       "...           ...\n",
       "4593  /118738557/\n",
       "4594  /118697846/\n",
       "4595  /116195702/\n",
       "4596  /116116452/\n",
       "4597  /114930351/\n",
       "\n",
       "[4598 rows x 1 columns]"
      ]
     },
     "execution_count": 93,
     "metadata": {},
     "output_type": "execute_result"
    }
   ],
   "source": [
    "allLinkdf = pd.read_csv('HomeLinks(All).csv')\n",
    "allLinkdf"
   ]
  },
  {
   "cell_type": "code",
   "execution_count": 64,
   "id": "ea8af6ff-333a-4a8a-bb5a-9e6f36972f6e",
   "metadata": {},
   "outputs": [
    {
     "data": {
      "text/html": [
       "<div>\n",
       "<style scoped>\n",
       "    .dataframe tbody tr th:only-of-type {\n",
       "        vertical-align: middle;\n",
       "    }\n",
       "\n",
       "    .dataframe tbody tr th {\n",
       "        vertical-align: top;\n",
       "    }\n",
       "\n",
       "    .dataframe thead th {\n",
       "        text-align: right;\n",
       "    }\n",
       "</style>\n",
       "<table border=\"1\" class=\"dataframe\">\n",
       "  <thead>\n",
       "    <tr style=\"text-align: right;\">\n",
       "      <th></th>\n",
       "      <th>links</th>\n",
       "    </tr>\n",
       "  </thead>\n",
       "  <tbody>\n",
       "    <tr>\n",
       "      <th>0</th>\n",
       "      <td>/119964742/</td>\n",
       "    </tr>\n",
       "    <tr>\n",
       "      <th>1</th>\n",
       "      <td>/119635173/</td>\n",
       "    </tr>\n",
       "    <tr>\n",
       "      <th>2</th>\n",
       "      <td>/119584666/</td>\n",
       "    </tr>\n",
       "    <tr>\n",
       "      <th>3</th>\n",
       "      <td>/119380606/</td>\n",
       "    </tr>\n",
       "    <tr>\n",
       "      <th>4</th>\n",
       "      <td>/119204643/</td>\n",
       "    </tr>\n",
       "    <tr>\n",
       "      <th>...</th>\n",
       "      <td>...</td>\n",
       "    </tr>\n",
       "    <tr>\n",
       "      <th>807</th>\n",
       "      <td>/118738557/</td>\n",
       "    </tr>\n",
       "    <tr>\n",
       "      <th>808</th>\n",
       "      <td>/118697846/</td>\n",
       "    </tr>\n",
       "    <tr>\n",
       "      <th>809</th>\n",
       "      <td>/116195702/</td>\n",
       "    </tr>\n",
       "    <tr>\n",
       "      <th>810</th>\n",
       "      <td>/116116452/</td>\n",
       "    </tr>\n",
       "    <tr>\n",
       "      <th>811</th>\n",
       "      <td>/114930351/</td>\n",
       "    </tr>\n",
       "  </tbody>\n",
       "</table>\n",
       "<p>812 rows × 1 columns</p>\n",
       "</div>"
      ],
      "text/plain": [
       "           links\n",
       "0    /119964742/\n",
       "1    /119635173/\n",
       "2    /119584666/\n",
       "3    /119380606/\n",
       "4    /119204643/\n",
       "..           ...\n",
       "807  /118738557/\n",
       "808  /118697846/\n",
       "809  /116195702/\n",
       "810  /116116452/\n",
       "811  /114930351/\n",
       "\n",
       "[812 rows x 1 columns]"
      ]
     },
     "execution_count": 64,
     "metadata": {},
     "output_type": "execute_result"
    }
   ],
   "source": [
    "links = pd.DataFrame(links, columns =['links'])\n",
    "links"
   ]
  },
  {
   "cell_type": "code",
   "execution_count": 65,
   "id": "a2a346a8-eacd-4a48-a5c8-b3f481d4d65a",
   "metadata": {
    "scrolled": true
   },
   "outputs": [
    {
     "data": {
      "text/html": [
       "<div>\n",
       "<style scoped>\n",
       "    .dataframe tbody tr th:only-of-type {\n",
       "        vertical-align: middle;\n",
       "    }\n",
       "\n",
       "    .dataframe tbody tr th {\n",
       "        vertical-align: top;\n",
       "    }\n",
       "\n",
       "    .dataframe thead th {\n",
       "        text-align: right;\n",
       "    }\n",
       "</style>\n",
       "<table border=\"1\" class=\"dataframe\">\n",
       "  <thead>\n",
       "    <tr style=\"text-align: right;\">\n",
       "      <th></th>\n",
       "      <th>links</th>\n",
       "    </tr>\n",
       "  </thead>\n",
       "  <tbody>\n",
       "    <tr>\n",
       "      <th>0</th>\n",
       "      <td>/119809331/</td>\n",
       "    </tr>\n",
       "    <tr>\n",
       "      <th>1</th>\n",
       "      <td>/119745305/</td>\n",
       "    </tr>\n",
       "    <tr>\n",
       "      <th>2</th>\n",
       "      <td>/119835316/</td>\n",
       "    </tr>\n",
       "    <tr>\n",
       "      <th>3</th>\n",
       "      <td>/119838571/</td>\n",
       "    </tr>\n",
       "    <tr>\n",
       "      <th>4</th>\n",
       "      <td>/119659218/</td>\n",
       "    </tr>\n",
       "    <tr>\n",
       "      <th>...</th>\n",
       "      <td>...</td>\n",
       "    </tr>\n",
       "    <tr>\n",
       "      <th>4593</th>\n",
       "      <td>/118738557/</td>\n",
       "    </tr>\n",
       "    <tr>\n",
       "      <th>4594</th>\n",
       "      <td>/118697846/</td>\n",
       "    </tr>\n",
       "    <tr>\n",
       "      <th>4595</th>\n",
       "      <td>/116195702/</td>\n",
       "    </tr>\n",
       "    <tr>\n",
       "      <th>4596</th>\n",
       "      <td>/116116452/</td>\n",
       "    </tr>\n",
       "    <tr>\n",
       "      <th>4597</th>\n",
       "      <td>/114930351/</td>\n",
       "    </tr>\n",
       "  </tbody>\n",
       "</table>\n",
       "<p>4598 rows × 1 columns</p>\n",
       "</div>"
      ],
      "text/plain": [
       "            links\n",
       "0     /119809331/\n",
       "1     /119745305/\n",
       "2     /119835316/\n",
       "3     /119838571/\n",
       "4     /119659218/\n",
       "...           ...\n",
       "4593  /118738557/\n",
       "4594  /118697846/\n",
       "4595  /116195702/\n",
       "4596  /116116452/\n",
       "4597  /114930351/\n",
       "\n",
       "[4598 rows x 1 columns]"
      ]
     },
     "execution_count": 65,
     "metadata": {},
     "output_type": "execute_result"
    }
   ],
   "source": [
    "allLinkdf = pd.concat([allLinkdf, links], axis=0, ignore_index=True)\n",
    "allLinkdf"
   ]
  },
  {
   "cell_type": "code",
   "execution_count": null,
   "id": "65ecde71-5201-4c28-b17d-c8b826c6ac4a",
   "metadata": {},
   "outputs": [],
   "source": []
  },
  {
   "cell_type": "code",
   "execution_count": null,
   "id": "0d53a0b5-ebc4-4500-ad51-38242921bcf9",
   "metadata": {},
   "outputs": [],
   "source": []
  },
  {
   "cell_type": "code",
   "execution_count": null,
   "id": "23e7b137-b2a0-42e7-83de-f5c956102a79",
   "metadata": {},
   "outputs": [],
   "source": []
  },
  {
   "cell_type": "code",
   "execution_count": 66,
   "id": "691f33ee-1ab2-48fe-9458-86b85c4ef629",
   "metadata": {},
   "outputs": [],
   "source": [
    "allLinkdf.to_csv('HomeLinks(All).csv', index = False)\n",
    "links.to_csv('HomeLinks.csv', index = False)"
   ]
  },
  {
   "cell_type": "code",
   "execution_count": null,
   "id": "24965f3c-4e9d-4cc9-85b0-7d8137bddb38",
   "metadata": {},
   "outputs": [],
   "source": []
  }
 ],
 "metadata": {
  "kernelspec": {
   "display_name": "Python 3 (ipykernel)",
   "language": "python",
   "name": "python3"
  },
  "language_info": {
   "codemirror_mode": {
    "name": "ipython",
    "version": 3
   },
   "file_extension": ".py",
   "mimetype": "text/x-python",
   "name": "python",
   "nbconvert_exporter": "python",
   "pygments_lexer": "ipython3",
   "version": "3.11.5"
  }
 },
 "nbformat": 4,
 "nbformat_minor": 5
}
